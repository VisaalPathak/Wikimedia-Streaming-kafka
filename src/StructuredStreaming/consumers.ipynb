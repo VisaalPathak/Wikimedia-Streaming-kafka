{
 "cells": [
  {
   "cell_type": "code",
   "execution_count": 1,
   "metadata": {},
   "outputs": [],
   "source": [
    "from pyspark.sql import SparkSession\n",
    "\n",
    "import pyspark.sql.functions as F"
   ]
  },
  {
   "cell_type": "code",
   "execution_count": 2,
   "metadata": {},
   "outputs": [
    {
     "name": "stdout",
     "output_type": "stream",
     "text": [
      ":: loading settings :: url = jar:file:/home/gauravthagunna/venvs/pyspark_env/lib/python3.10/site-packages/pyspark/jars/ivy-2.5.1.jar!/org/apache/ivy/core/settings/ivysettings.xml\n"
     ]
    },
    {
     "name": "stderr",
     "output_type": "stream",
     "text": [
      "Ivy Default Cache set to: /home/gauravthagunna/.ivy2/cache\n",
      "The jars for the packages stored in: /home/gauravthagunna/.ivy2/jars\n",
      "org.apache.spark#spark-sql-kafka-0-10_2.12 added as a dependency\n",
      ":: resolving dependencies :: org.apache.spark#spark-submit-parent-2be27d16-613e-400e-9d3e-cac0503bdc84;1.0\n",
      "\tconfs: [default]\n",
      "\tfound org.apache.spark#spark-sql-kafka-0-10_2.12;3.3.0 in central\n",
      "\tfound org.apache.spark#spark-token-provider-kafka-0-10_2.12;3.3.0 in central\n",
      "\tfound org.apache.kafka#kafka-clients;2.8.1 in central\n",
      "\tfound org.lz4#lz4-java;1.8.0 in central\n",
      "\tfound org.xerial.snappy#snappy-java;1.1.8.4 in central\n",
      "\tfound org.slf4j#slf4j-api;1.7.32 in central\n",
      "\tfound org.apache.hadoop#hadoop-client-runtime;3.3.2 in central\n",
      "\tfound org.spark-project.spark#unused;1.0.0 in central\n",
      "\tfound org.apache.hadoop#hadoop-client-api;3.3.2 in central\n",
      "\tfound commons-logging#commons-logging;1.1.3 in central\n",
      "\tfound com.google.code.findbugs#jsr305;3.0.0 in central\n",
      "\tfound org.apache.commons#commons-pool2;2.11.1 in central\n",
      "downloading https://repo1.maven.org/maven2/org/apache/spark/spark-sql-kafka-0-10_2.12/3.3.0/spark-sql-kafka-0-10_2.12-3.3.0.jar ...\n",
      "\t[SUCCESSFUL ] org.apache.spark#spark-sql-kafka-0-10_2.12;3.3.0!spark-sql-kafka-0-10_2.12.jar (17031ms)\n",
      "downloading https://repo1.maven.org/maven2/org/apache/spark/spark-token-provider-kafka-0-10_2.12/3.3.0/spark-token-provider-kafka-0-10_2.12-3.3.0.jar ...\n",
      "\t[SUCCESSFUL ] org.apache.spark#spark-token-provider-kafka-0-10_2.12;3.3.0!spark-token-provider-kafka-0-10_2.12.jar (2206ms)\n",
      "downloading https://repo1.maven.org/maven2/org/apache/kafka/kafka-clients/2.8.1/kafka-clients-2.8.1.jar ...\n",
      "\t[SUCCESSFUL ] org.apache.kafka#kafka-clients;2.8.1!kafka-clients.jar (221255ms)\n",
      "downloading https://repo1.maven.org/maven2/com/google/code/findbugs/jsr305/3.0.0/jsr305-3.0.0.jar ...\n",
      "\t[SUCCESSFUL ] com.google.code.findbugs#jsr305;3.0.0!jsr305.jar (2023ms)\n",
      "downloading https://repo1.maven.org/maven2/org/apache/commons/commons-pool2/2.11.1/commons-pool2-2.11.1.jar ...\n",
      "\t[SUCCESSFUL ] org.apache.commons#commons-pool2;2.11.1!commons-pool2.jar (8256ms)\n",
      "downloading https://repo1.maven.org/maven2/org/spark-project/spark/unused/1.0.0/unused-1.0.0.jar ...\n",
      "\t[SUCCESSFUL ] org.spark-project.spark#unused;1.0.0!unused.jar (436ms)\n",
      "downloading https://repo1.maven.org/maven2/org/apache/hadoop/hadoop-client-runtime/3.3.2/hadoop-client-runtime-3.3.2.jar ...\n",
      "\t[SUCCESSFUL ] org.apache.hadoop#hadoop-client-runtime;3.3.2!hadoop-client-runtime.jar (1477548ms)\n",
      "downloading https://repo1.maven.org/maven2/org/lz4/lz4-java/1.8.0/lz4-java-1.8.0.jar ...\n",
      "\t[SUCCESSFUL ] org.lz4#lz4-java;1.8.0!lz4-java.jar (39421ms)\n",
      "downloading https://repo1.maven.org/maven2/org/xerial/snappy/snappy-java/1.1.8.4/snappy-java-1.1.8.4.jar ...\n",
      "\t[SUCCESSFUL ] org.xerial.snappy#snappy-java;1.1.8.4!snappy-java.jar(bundle) (102093ms)\n",
      "downloading https://repo1.maven.org/maven2/org/slf4j/slf4j-api/1.7.32/slf4j-api-1.7.32.jar ...\n",
      "\t[SUCCESSFUL ] org.slf4j#slf4j-api;1.7.32!slf4j-api.jar (1739ms)\n",
      "downloading https://repo1.maven.org/maven2/org/apache/hadoop/hadoop-client-api/3.3.2/hadoop-client-api-3.3.2.jar ...\n",
      "\t[SUCCESSFUL ] org.apache.hadoop#hadoop-client-api;3.3.2!hadoop-client-api.jar (918678ms)\n",
      "downloading https://repo1.maven.org/maven2/commons-logging/commons-logging/1.1.3/commons-logging-1.1.3.jar ...\n",
      "\t[SUCCESSFUL ] commons-logging#commons-logging;1.1.3!commons-logging.jar (3541ms)\n",
      ":: resolution report :: resolve 42896ms :: artifacts dl 2794254ms\n",
      "\t:: modules in use:\n",
      "\tcom.google.code.findbugs#jsr305;3.0.0 from central in [default]\n",
      "\tcommons-logging#commons-logging;1.1.3 from central in [default]\n",
      "\torg.apache.commons#commons-pool2;2.11.1 from central in [default]\n",
      "\torg.apache.hadoop#hadoop-client-api;3.3.2 from central in [default]\n",
      "\torg.apache.hadoop#hadoop-client-runtime;3.3.2 from central in [default]\n",
      "\torg.apache.kafka#kafka-clients;2.8.1 from central in [default]\n",
      "\torg.apache.spark#spark-sql-kafka-0-10_2.12;3.3.0 from central in [default]\n",
      "\torg.apache.spark#spark-token-provider-kafka-0-10_2.12;3.3.0 from central in [default]\n",
      "\torg.lz4#lz4-java;1.8.0 from central in [default]\n",
      "\torg.slf4j#slf4j-api;1.7.32 from central in [default]\n",
      "\torg.spark-project.spark#unused;1.0.0 from central in [default]\n",
      "\torg.xerial.snappy#snappy-java;1.1.8.4 from central in [default]\n",
      "\t---------------------------------------------------------------------\n",
      "\t|                  |            modules            ||   artifacts   |\n",
      "\t|       conf       | number| search|dwnlded|evicted|| number|dwnlded|\n",
      "\t---------------------------------------------------------------------\n",
      "\t|      default     |   12  |   12  |   12  |   0   ||   12  |   12  |\n",
      "\t---------------------------------------------------------------------\n",
      ":: retrieving :: org.apache.spark#spark-submit-parent-2be27d16-613e-400e-9d3e-cac0503bdc84\n",
      "\tconfs: [default]\n",
      "\t12 artifacts copied, 0 already retrieved (56631kB/117ms)\n",
      "24/11/15 12:31:03 WARN NativeCodeLoader: Unable to load native-hadoop library for your platform... using builtin-java classes where applicable\n",
      "Setting default log level to \"WARN\".\n",
      "To adjust logging level use sc.setLogLevel(newLevel). For SparkR, use setLogLevel(newLevel).\n"
     ]
    },
    {
     "data": {
      "text/html": [
       "\n",
       "            <div>\n",
       "                <p><b>SparkSession - in-memory</b></p>\n",
       "                \n",
       "        <div>\n",
       "            <p><b>SparkContext</b></p>\n",
       "\n",
       "            <p><a href=\"http://thinkpad-e480:4040\">Spark UI</a></p>\n",
       "\n",
       "            <dl>\n",
       "              <dt>Version</dt>\n",
       "                <dd><code>v3.4.0</code></dd>\n",
       "              <dt>Master</dt>\n",
       "                <dd><code>local[*]</code></dd>\n",
       "              <dt>AppName</dt>\n",
       "                <dd><code>gaurav</code></dd>\n",
       "            </dl>\n",
       "        </div>\n",
       "        \n",
       "            </div>\n",
       "        "
      ],
      "text/plain": [
       "<pyspark.sql.session.SparkSession at 0x7b068a32f5b0>"
      ]
     },
     "execution_count": 2,
     "metadata": {},
     "output_type": "execute_result"
    }
   ],
   "source": [
    "spark = (SparkSession.builder.appName(\"gaurav\")\n",
    "         .config(\"spark.jars.packages\", \"org.apache.spark:spark-sql-kafka-0-10_2.12:3.3.0\") \\\n",
    "        .getOrCreate())\n",
    "spark"
   ]
  },
  {
   "cell_type": "code",
   "execution_count": 145,
   "metadata": {},
   "outputs": [
    {
     "name": "stdout",
     "output_type": "stream",
     "text": [
      "root\n",
      " |-- key: binary (nullable = true)\n",
      " |-- value: binary (nullable = true)\n",
      " |-- topic: string (nullable = true)\n",
      " |-- partition: integer (nullable = true)\n",
      " |-- offset: long (nullable = true)\n",
      " |-- timestamp: timestamp (nullable = true)\n",
      " |-- timestampType: integer (nullable = true)\n",
      "\n"
     ]
    },
    {
     "name": "stderr",
     "output_type": "stream",
     "text": [
      "24/11/15 17:35:50 WARN KafkaSourceProvider: maxOffsetsPerTrigger option ignored in batch queries\n"
     ]
    }
   ],
   "source": [
    "maxOffsetsPerTrigger = 200 # max 2000 offset per microbatch\n",
    "startingTime = 1 #default : start from beginning\n",
    "df = (spark.read\n",
    "      .format(\"kafka\")\n",
    "      .option(\"kafka.bootstrap.servers\",\"localhost:9092\")\n",
    "      .option(\"subscribe\",\"wikimedia_data_topic\")\n",
    "      .option(\"maxOffsetsPerTrigger\",maxOffsetsPerTrigger)\n",
    "      .option(\"startingTimestamp\",startingTime)\n",
    "      .load()\n",
    "      )\n",
    "df.printSchema()"
   ]
  },
  {
   "cell_type": "code",
   "execution_count": 124,
   "metadata": {},
   "outputs": [
    {
     "name": "stderr",
     "output_type": "stream",
     "text": [
      "24/11/15 17:11:55 WARN AdminClientConfig: The configuration 'key.deserializer' was supplied but isn't a known config.\n",
      "24/11/15 17:11:55 WARN AdminClientConfig: The configuration 'value.deserializer' was supplied but isn't a known config.\n",
      "24/11/15 17:11:55 WARN AdminClientConfig: The configuration 'enable.auto.commit' was supplied but isn't a known config.\n",
      "24/11/15 17:11:55 WARN AdminClientConfig: The configuration 'max.poll.records' was supplied but isn't a known config.\n",
      "24/11/15 17:11:55 WARN AdminClientConfig: The configuration 'auto.offset.reset' was supplied but isn't a known config.\n"
     ]
    },
    {
     "name": "stdout",
     "output_type": "stream",
     "text": [
      "+----+--------------------+--------------------+---------+------+--------------------+-------------+\n",
      "| key|               value|               topic|partition|offset|           timestamp|timestampType|\n",
      "+----+--------------------+--------------------+---------+------+--------------------+-------------+\n",
      "|null|[22 7B 5C 22 24 7...|wikimedia_data_topic|        0|     0|2024-11-15 12:57:...|            0|\n",
      "|null|[22 7B 5C 22 24 7...|wikimedia_data_topic|        0|     1|2024-11-15 12:58:...|            0|\n",
      "|null|[22 7B 5C 22 24 7...|wikimedia_data_topic|        0|     2|2024-11-15 12:58:...|            0|\n",
      "|null|[22 7B 5C 22 24 7...|wikimedia_data_topic|        0|     3|2024-11-15 12:58:...|            0|\n",
      "|null|[22 7B 5C 22 24 7...|wikimedia_data_topic|        0|     4|2024-11-15 12:58:...|            0|\n",
      "+----+--------------------+--------------------+---------+------+--------------------+-------------+\n",
      "\n"
     ]
    },
    {
     "name": "stderr",
     "output_type": "stream",
     "text": [
      "                                                                                \r"
     ]
    }
   ],
   "source": [
    "df.limit(5).show()"
   ]
  },
  {
   "cell_type": "code",
   "execution_count": null,
   "metadata": {},
   "outputs": [],
   "source": []
  },
  {
   "cell_type": "code",
   "execution_count": 110,
   "metadata": {},
   "outputs": [
    {
     "name": "stderr",
     "output_type": "stream",
     "text": [
      "24/11/15 16:55:59 WARN AdminClientConfig: The configuration 'key.deserializer' was supplied but isn't a known config.\n",
      "24/11/15 16:55:59 WARN AdminClientConfig: The configuration 'value.deserializer' was supplied but isn't a known config.\n",
      "24/11/15 16:55:59 WARN AdminClientConfig: The configuration 'enable.auto.commit' was supplied but isn't a known config.\n",
      "24/11/15 16:55:59 WARN AdminClientConfig: The configuration 'max.poll.records' was supplied but isn't a known config.\n",
      "24/11/15 16:55:59 WARN AdminClientConfig: The configuration 'auto.offset.reset' was supplied but isn't a known config.\n"
     ]
    },
    {
     "name": "stdout",
     "output_type": "stream",
     "text": [
      "{\"value\":\"\\\"{\\\\\\\"$schema\\\\\\\":\\\\\\\"/mediawiki/recentchange/1.0.0\\\\\\\",\\\\\\\"meta\\\\\\\":{\\\\\\\"uri\\\\\\\":\\\\\\\"https://commons.wikimedia.org/wiki/File:Florida_Tropical_House_NPS.jpg\\\\\\\",\\\\\\\"request_id\\\\\\\":\\\\\\\"0c4303be-f77f-4c51-8691-9ff1571c6298\\\\\\\",\\\\\\\"id\\\\\\\":\\\\\\\"56cf14b8-fb3e-4c2d-b96b-25e88060b96d\\\\\\\",\\\\\\\"dt\\\\\\\":\\\\\\\"2024-11-15T07:12:58Z\\\\\\\",\\\\\\\"domain\\\\\\\":\\\\\\\"commons.wikimedia.org\\\\\\\",\\\\\\\"stream\\\\\\\":\\\\\\\"mediawiki.recentchange\\\\\\\",\\\\\\\"topic\\\\\\\":\\\\\\\"codfw.mediawiki.recentchange\\\\\\\",\\\\\\\"partition\\\\\\\":0,\\\\\\\"offset\\\\\\\":1249027121},\\\\\\\"id\\\\\\\":2655168092,\\\\\\\"type\\\\\\\":\\\\\\\"edit\\\\\\\",\\\\\\\"namespace\\\\\\\":6,\\\\\\\"title\\\\\\\":\\\\\\\"File:Florida Tropical House NPS.jpg\\\\\\\",\\\\\\\"title_url\\\\\\\":\\\\\\\"https://commons.wikimedia.org/wiki/File:Florida_Tropical_House_NPS.jpg\\\\\\\",\\\\\\\"comment\\\\\\\":\\\\\\\"/* wbsetclaim-update:2||1|2 */ [[d:Special:EntityPage/P6216]]: [[d:Special:EntityPage/Q19652]], updating based on [[Template:PD-USGov-NPS]]\\\\\\\",\\\\\\\"timestamp\\\\\\\":1731654778,\\\\\\\"user\\\\\\\":\\\\\\\"BotMultichillT\\\\\\\",\\\\\\\"bot\\\\\\\":true,\\\\\\\"notify_url\\\\\\\":\\\\\\\"https://commons.wikimedia.org/w/index.php?diff=957288243&oldid=709348572&rcid=2655168092\\\\\\\",\\\\\\\"minor\\\\\\\":false,\\\\\\\"patrolled\\\\\\\":true,\\\\\\\"length\\\\\\\":{\\\\\\\"old\\\\\\\":4685,\\\\\\\"new\\\\\\\":5358},\\\\\\\"revision\\\\\\\":{\\\\\\\"old\\\\\\\":709348572,\\\\\\\"new\\\\\\\":957288243},\\\\\\\"server_url\\\\\\\":\\\\\\\"https://commons.wikimedia.org\\\\\\\",\\\\\\\"server_name\\\\\\\":\\\\\\\"commons.wikimedia.org\\\\\\\",\\\\\\\"server_script_path\\\\\\\":\\\\\\\"/w\\\\\\\",\\\\\\\"wiki\\\\\\\":\\\\\\\"commonswiki\\\\\\\",\\\\\\\"parsedcomment\\\\\\\":\\\\\\\"\\\\u200e<span dir=\\\\\\\\\\\\\\\"auto\\\\\\\\\\\\\\\"><span class=\\\\\\\\\\\\\\\"autocomment\\\\\\\\\\\\\\\">Changed claim: </span></span> <a href=\\\\\\\\\\\\\\\"https://www.wikidata.org/wiki/Special:EntityPage/P6216\\\\\\\\\\\\\\\" class=\\\\\\\\\\\\\\\"extiw\\\\\\\\\\\\\\\" title=\\\\\\\\\\\\\\\"\\\\u200ecopyright status\\\\u200e | \\\\u200ecopyright status for intellectual creations like works of art, publications, software, etc.\\\\u200e\\\\\\\\\\\\\\\"><span class=\\\\\\\\\\\\\\\"wb-itemlink\\\\\\\\\\\\\\\"><span class=\\\\\\\\\\\\\\\"wb-itemlink-label\\\\\\\\\\\\\\\" lang=\\\\\\\\\\\\\\\"en\\\\\\\\\\\\\\\" dir=\\\\\\\\\\\\\\\"ltr\\\\\\\\\\\\\\\">copyright status</span> <span class=\\\\\\\\\\\\\\\"wb-itemlink-id\\\\\\\\\\\\\\\">(P6216)</span></span></a>: <a href=\\\\\\\\\\\\\\\"https://www.wikidata.org/wiki/Special:EntityPage/Q19652\\\\\\\\\\\\\\\" class=\\\\\\\\\\\\\\\"extiw\\\\\\\\\\\\\\\" title=\\\\\\\\\\\\\\\"\\\\u200epublic domain\\\\u200e | \\\\u200eno exclusive intellectual property rights apply\\\\u200e\\\\\\\\\\\\\\\"><span class=\\\\\\\\\\\\\\\"wb-itemlink\\\\\\\\\\\\\\\"><span class=\\\\\\\\\\\\\\\"wb-itemlink-label\\\\\\\\\\\\\\\" lang=\\\\\\\\\\\\\\\"en\\\\\\\\\\\\\\\" dir=\\\\\\\\\\\\\\\"ltr\\\\\\\\\\\\\\\">public domain</span> <span class=\\\\\\\\\\\\\\\"wb-itemlink-id\\\\\\\\\\\\\\\">(Q19652)</span></span></a>, updating based on <a href=\\\\\\\\\\\\\\\"/wiki/Template:PD-USGov-NPS\\\\\\\\\\\\\\\" title=\\\\\\\\\\\\\\\"Template:PD-USGov-NPS\\\\\\\\\\\\\\\">Template:PD-USGov-NPS</a>\\\\\\\"}\\\"\"}\n"
     ]
    },
    {
     "name": "stderr",
     "output_type": "stream",
     "text": [
      "                                                                                \r"
     ]
    }
   ],
   "source": [
    "df1 = df.select(df.value.cast(\"string\")) # Convert the PySpark DataFrame to a JSON string \n",
    "json_string = df1.toJSON().collect()[0] \n",
    "  \n",
    "print(json_string) \n",
    "  \n",
    "# Write the JSON string to a file \n",
    "with open(\"/home/gauravthagunna/Desktop/projects/kafka-projects/wikimedia_processing/data_sample/data_wikimedia.json\", \"w\") as f: \n",
    "    f.write(json_string) "
   ]
  },
  {
   "cell_type": "code",
   "execution_count": 22,
   "metadata": {},
   "outputs": [
    {
     "name": "stderr",
     "output_type": "stream",
     "text": [
      "24/11/15 13:06:02 WARN AdminClientConfig: The configuration 'key.deserializer' was supplied but isn't a known config.\n",
      "24/11/15 13:06:02 WARN AdminClientConfig: The configuration 'value.deserializer' was supplied but isn't a known config.\n",
      "24/11/15 13:06:02 WARN AdminClientConfig: The configuration 'enable.auto.commit' was supplied but isn't a known config.\n",
      "24/11/15 13:06:02 WARN AdminClientConfig: The configuration 'max.poll.records' was supplied but isn't a known config.\n",
      "24/11/15 13:06:02 WARN AdminClientConfig: The configuration 'auto.offset.reset' was supplied but isn't a known config.\n"
     ]
    },
    {
     "name": "stdout",
     "output_type": "stream",
     "text": [
      "+----------------------------------------------------------------------------------------------------------------------------------------------------------------------------------------------------------------------------------------------------------------------------------------------------------------------------------------------------------------------------------------------------------------------------------------------------------------------------------------------------------------------------------------------------------------------------------------------------------------------------------------------------------------------------------------------------------------------------------------------------------------------------------------------------------------------------------------------------------------------------------------------------------------------------------------------------------------------------------------------------------------------------------------------------------------------------------------------------------------------------------------------------------------------------------------------------------------------------------------------------------------------------------------------------------------------------------------------------------------------------------------------------------------------------------------------------------------------------------------------------------------------------------------------------------------------------------------------------------------------------------------------------------------------------------------------------------------------------------------------------------------------------------------------------------------------------------------------------------------------------------------------------------------------------------------------------------------------------------------------------------------------------------------------------------------------------------------------------------------------------------------------------------------------------------------------------------------------------------------------------------------------------------------------------------------------------------------------------------------+\n",
      "|value                                                                                                                                                                                                                                                                                                                                                                                                                                                                                                                                                                                                                                                                                                                                                                                                                                                                                                                                                                                                                                                                                                                                                                                                                                                                                                                                                                                                                                                                                                                                                                                                                                                                                                                                                                                                                                                                                                                                                                                                                                                                                                                                                                                                                                                                                                                                                           |\n",
      "+----------------------------------------------------------------------------------------------------------------------------------------------------------------------------------------------------------------------------------------------------------------------------------------------------------------------------------------------------------------------------------------------------------------------------------------------------------------------------------------------------------------------------------------------------------------------------------------------------------------------------------------------------------------------------------------------------------------------------------------------------------------------------------------------------------------------------------------------------------------------------------------------------------------------------------------------------------------------------------------------------------------------------------------------------------------------------------------------------------------------------------------------------------------------------------------------------------------------------------------------------------------------------------------------------------------------------------------------------------------------------------------------------------------------------------------------------------------------------------------------------------------------------------------------------------------------------------------------------------------------------------------------------------------------------------------------------------------------------------------------------------------------------------------------------------------------------------------------------------------------------------------------------------------------------------------------------------------------------------------------------------------------------------------------------------------------------------------------------------------------------------------------------------------------------------------------------------------------------------------------------------------------------------------------------------------------------------------------------------------+\n",
      "|\"{\\\"$schema\\\":\\\"/mediawiki/recentchange/1.0.0\\\",\\\"meta\\\":{\\\"uri\\\":\\\"https://commons.wikimedia.org/wiki/File:Florida_Tropical_House_NPS.jpg\\\",\\\"request_id\\\":\\\"0c4303be-f77f-4c51-8691-9ff1571c6298\\\",\\\"id\\\":\\\"56cf14b8-fb3e-4c2d-b96b-25e88060b96d\\\",\\\"dt\\\":\\\"2024-11-15T07:12:58Z\\\",\\\"domain\\\":\\\"commons.wikimedia.org\\\",\\\"stream\\\":\\\"mediawiki.recentchange\\\",\\\"topic\\\":\\\"codfw.mediawiki.recentchange\\\",\\\"partition\\\":0,\\\"offset\\\":1249027121},\\\"id\\\":2655168092,\\\"type\\\":\\\"edit\\\",\\\"namespace\\\":6,\\\"title\\\":\\\"File:Florida Tropical House NPS.jpg\\\",\\\"title_url\\\":\\\"https://commons.wikimedia.org/wiki/File:Florida_Tropical_House_NPS.jpg\\\",\\\"comment\\\":\\\"/* wbsetclaim-update:2||1|2 */ [[d:Special:EntityPage/P6216]]: [[d:Special:EntityPage/Q19652]], updating based on [[Template:PD-USGov-NPS]]\\\",\\\"timestamp\\\":1731654778,\\\"user\\\":\\\"BotMultichillT\\\",\\\"bot\\\":true,\\\"notify_url\\\":\\\"https://commons.wikimedia.org/w/index.php?diff=957288243&oldid=709348572&rcid=2655168092\\\",\\\"minor\\\":false,\\\"patrolled\\\":true,\\\"length\\\":{\\\"old\\\":4685,\\\"new\\\":5358},\\\"revision\\\":{\\\"old\\\":709348572,\\\"new\\\":957288243},\\\"server_url\\\":\\\"https://commons.wikimedia.org\\\",\\\"server_name\\\":\\\"commons.wikimedia.org\\\",\\\"server_script_path\\\":\\\"/w\\\",\\\"wiki\\\":\\\"commonswiki\\\",\\\"parsedcomment\\\":\\\"\\u200e<span dir=\\\\\\\"auto\\\\\\\"><span class=\\\\\\\"autocomment\\\\\\\">Changed claim: </span></span> <a href=\\\\\\\"https://www.wikidata.org/wiki/Special:EntityPage/P6216\\\\\\\" class=\\\\\\\"extiw\\\\\\\" title=\\\\\\\"\\u200ecopyright status\\u200e | \\u200ecopyright status for intellectual creations like works of art, publications, software, etc.\\u200e\\\\\\\"><span class=\\\\\\\"wb-itemlink\\\\\\\"><span class=\\\\\\\"wb-itemlink-label\\\\\\\" lang=\\\\\\\"en\\\\\\\" dir=\\\\\\\"ltr\\\\\\\">copyright status</span> <span class=\\\\\\\"wb-itemlink-id\\\\\\\">(P6216)</span></span></a>: <a href=\\\\\\\"https://www.wikidata.org/wiki/Special:EntityPage/Q19652\\\\\\\" class=\\\\\\\"extiw\\\\\\\" title=\\\\\\\"\\u200epublic domain\\u200e | \\u200eno exclusive intellectual property rights apply\\u200e\\\\\\\"><span class=\\\\\\\"wb-itemlink\\\\\\\"><span class=\\\\\\\"wb-itemlink-label\\\\\\\" lang=\\\\\\\"en\\\\\\\" dir=\\\\\\\"ltr\\\\\\\">public domain</span> <span class=\\\\\\\"wb-itemlink-id\\\\\\\">(Q19652)</span></span></a>, updating based on <a href=\\\\\\\"/wiki/Template:PD-USGov-NPS\\\\\\\" title=\\\\\\\"Template:PD-USGov-NPS\\\\\\\">Template:PD-USGov-NPS</a>\\\"}\"|\n",
      "|\"{\\\"$schema\\\":\\\"/mediawiki/recentchange/1.0.0\\\",\\\"meta\\\":{\\\"uri\\\":\\\"https://commons.wikimedia.org/wiki/File:2018_04_29-23.58.37.230-CDT.jpg\\\",\\\"request_id\\\":\\\"44c61c3e-2689-41a9-9b6f-ca6e7eb35579\\\",\\\"id\\\":\\\"4adf3401-ac7b-46a2-80bc-56872bf7f579\\\",\\\"dt\\\":\\\"2024-11-15T07:12:58Z\\\",\\\"domain\\\":\\\"commons.wikimedia.org\\\",\\\"stream\\\":\\\"mediawiki.recentchange\\\",\\\"topic\\\":\\\"codfw.mediawiki.recentchange\\\",\\\"partition\\\":0,\\\"offset\\\":1249027122},\\\"id\\\":2655168093,\\\"type\\\":\\\"edit\\\",\\\"namespace\\\":6,\\\"title\\\":\\\"File:2018 04 29-23.58.37.230-CDT.jpg\\\",\\\"title_url\\\":\\\"https://commons.wikimedia.org/wiki/File:2018_04_29-23.58.37.230-CDT.jpg\\\",\\\"comment\\\":\\\"/* wbeditentity-update:0| */ automatically adding [[Commons:Structured data|structured data]] based on file information\\\",\\\"timestamp\\\":1731654778,\\\"user\\\":\\\"SchlurcherBot\\\",\\\"bot\\\":true,\\\"notify_url\\\":\\\"https://commons.wikimedia.org/w/index.php?diff=957288245&oldid=847969626&rcid=2655168093\\\",\\\"minor\\\":false,\\\"patrolled\\\":true,\\\"length\\\":{\\\"old\\\":3329,\\\"new\\\":3759},\\\"revision\\\":{\\\"old\\\":847969626,\\\"new\\\":957288245},\\\"server_url\\\":\\\"https://commons.wikimedia.org\\\",\\\"server_name\\\":\\\"commons.wikimedia.org\\\",\\\"server_script_path\\\":\\\"/w\\\",\\\"wiki\\\":\\\"commonswiki\\\",\\\"parsedcomment\\\":\\\"\\u200e<span dir=\\\\\\\"auto\\\\\\\"><span class=\\\\\\\"autocomment\\\\\\\">Changed an entity: </span></span> automatically adding <a href=\\\\\\\"/wiki/Commons:Structured_data\\\\\\\" title=\\\\\\\"Commons:Structured data\\\\\\\">structured data</a> based on file information\\\"}\"                                                                                                                                                                                                                                                                                                                                                                                                                                                                                                                                                                                                                                                                                                                                                                                                                           |\n",
      "|\"{\\\"$schema\\\":\\\"/mediawiki/recentchange/1.0.0\\\",\\\"meta\\\":{\\\"uri\\\":\\\"https://commons.wikimedia.org/wiki/Category:Cricket_grounds_in_England\\\",\\\"request_id\\\":\\\"7d26e901-8b10-41ba-bb9e-96656c0fc83f\\\",\\\"id\\\":\\\"b08c45e1-1626-4247-b266-85d8dc95e042\\\",\\\"dt\\\":\\\"2024-11-15T07:12:58Z\\\",\\\"domain\\\":\\\"commons.wikimedia.org\\\",\\\"stream\\\":\\\"mediawiki.recentchange\\\",\\\"topic\\\":\\\"codfw.mediawiki.recentchange\\\",\\\"partition\\\":0,\\\"offset\\\":1249027123},\\\"id\\\":2655168094,\\\"type\\\":\\\"categorize\\\",\\\"namespace\\\":14,\\\"title\\\":\\\"Category:Cricket grounds in England\\\",\\\"title_url\\\":\\\"https://commons.wikimedia.org/wiki/Category:Cricket_grounds_in_England\\\",\\\"comment\\\":\\\"[[:File:Wycombe House Cricket.jpg]] added to category\\\",\\\"timestamp\\\":1731654778,\\\"user\\\":\\\"MrKeefeJohn\\\",\\\"bot\\\":false,\\\"notify_url\\\":\\\"https://commons.wikimedia.org/w/index.php?diff=957288242&oldid=957288158&rcid=2655168094\\\",\\\"server_url\\\":\\\"https://commons.wikimedia.org\\\",\\\"server_name\\\":\\\"commons.wikimedia.org\\\",\\\"server_script_path\\\":\\\"/w\\\",\\\"wiki\\\":\\\"commonswiki\\\",\\\"parsedcomment\\\":\\\"<a href=\\\\\\\"/wiki/File:Wycombe_House_Cricket.jpg\\\\\\\" title=\\\\\\\"File:Wycombe House Cricket.jpg\\\\\\\">File:Wycombe House Cricket.jpg</a> added to category\\\"}\"                                                                                                                                                                                                                                                                                                                                                                                                                                                                                                                                                                                                                                                                                                                                                                                                                                                                                                                                                                                                                                                                                                                      |\n",
      "|\"{\\\"$schema\\\":\\\"/mediawiki/recentchange/1.0.0\\\",\\\"meta\\\":{\\\"uri\\\":\\\"https://commons.wikimedia.org/wiki/Category:Cricket_grounds_in_Somerset\\\",\\\"request_id\\\":\\\"7d26e901-8b10-41ba-bb9e-96656c0fc83f\\\",\\\"id\\\":\\\"59016de0-359c-4dfa-bf03-5427c9f02413\\\",\\\"dt\\\":\\\"2024-11-15T07:12:58Z\\\",\\\"domain\\\":\\\"commons.wikimedia.org\\\",\\\"stream\\\":\\\"mediawiki.recentchange\\\",\\\"topic\\\":\\\"codfw.mediawiki.recentchange\\\",\\\"partition\\\":0,\\\"offset\\\":1249027124},\\\"id\\\":2655168095,\\\"type\\\":\\\"categorize\\\",\\\"namespace\\\":14,\\\"title\\\":\\\"Category:Cricket grounds in Somerset\\\",\\\"title_url\\\":\\\"https://commons.wikimedia.org/wiki/Category:Cricket_grounds_in_Somerset\\\",\\\"comment\\\":\\\"[[:File:Wycombe House Cricket.jpg]] removed from category\\\",\\\"timestamp\\\":1731654778,\\\"user\\\":\\\"MrKeefeJohn\\\",\\\"bot\\\":false,\\\"notify_url\\\":\\\"https://commons.wikimedia.org/w/index.php?diff=957288242&oldid=957288158&rcid=2655168095\\\",\\\"server_url\\\":\\\"https://commons.wikimedia.org\\\",\\\"server_name\\\":\\\"commons.wikimedia.org\\\",\\\"server_script_path\\\":\\\"/w\\\",\\\"wiki\\\":\\\"commonswiki\\\",\\\"parsedcomment\\\":\\\"<a href=\\\\\\\"/wiki/File:Wycombe_House_Cricket.jpg\\\\\\\" title=\\\\\\\"File:Wycombe House Cricket.jpg\\\\\\\">File:Wycombe House Cricket.jpg</a> removed from category\\\"}\"                                                                                                                                                                                                                                                                                                                                                                                                                                                                                                                                                                                                                                                                                                                                                                                                                                                                                                                                                                                                                                                                                                           |\n",
      "|\"{\\\"$schema\\\":\\\"/mediawiki/recentchange/1.0.0\\\",\\\"meta\\\":{\\\"uri\\\":\\\"https://en.wikipedia.org/wiki/List_of_Reformed_Baptists\\\",\\\"request_id\\\":\\\"36c67c2a-a1cb-4f30-b0ab-bad1c1d2d818\\\",\\\"id\\\":\\\"4b31cb53-7412-4d26-9e39-0ffdea69fb94\\\",\\\"dt\\\":\\\"2024-11-15T07:12:58Z\\\",\\\"domain\\\":\\\"en.wikipedia.org\\\",\\\"stream\\\":\\\"mediawiki.recentchange\\\",\\\"topic\\\":\\\"codfw.mediawiki.recentchange\\\",\\\"partition\\\":0,\\\"offset\\\":1249027125},\\\"id\\\":1841201762,\\\"type\\\":\\\"edit\\\",\\\"namespace\\\":0,\\\"title\\\":\\\"List of Reformed Baptists\\\",\\\"title_url\\\":\\\"https://en.wikipedia.org/wiki/List_of_Reformed_Baptists\\\",\\\"comment\\\":\\\"/* 21st Century */\\\",\\\"timestamp\\\":1731654778,\\\"user\\\":\\\"DoulosBen\\\",\\\"bot\\\":false,\\\"notify_url\\\":\\\"https://en.wikipedia.org/w/index.php?diff=1257504479&oldid=1250788022\\\",\\\"minor\\\":false,\\\"length\\\":{\\\"old\\\":7669,\\\"new\\\":7678},\\\"revision\\\":{\\\"old\\\":1250788022,\\\"new\\\":1257504479},\\\"server_url\\\":\\\"https://en.wikipedia.org\\\",\\\"server_name\\\":\\\"en.wikipedia.org\\\",\\\"server_script_path\\\":\\\"/w\\\",\\\"wiki\\\":\\\"enwiki\\\",\\\"parsedcomment\\\":\\\"<span class=\\\\\\\"autocomment\\\\\\\"><a href=\\\\\\\"/wiki/List_of_Reformed_Baptists#21st_Century\\\\\\\" title=\\\\\\\"List of Reformed Baptists\\\\\\\">\\u2192<bdi dir=\\\\\\\"ltr\\\\\\\">21st Century</bdi></a></span>\\\"}\"                                                                                                                                                                                                                                                                                                                                                                                                                                                                                                                                                                                                                                                                                                                                                                                                                                                                                                                                                                                                                                                                                              |\n",
      "|\"{\\\"$schema\\\":\\\"/mediawiki/recentchange/1.0.0\\\",\\\"meta\\\":{\\\"uri\\\":\\\"https://uk.wikipedia.org/wiki/%D0%9C%D0%B5%D0%B4%D0%BE%D0%BF%D1%96%D0%B9%D0%BD%D0%B8%D0%BA_%D1%82%D0%B0%D1%81%D0%BC%D0%B0%D0%BD%D1%96%D0%B9%D1%81%D1%8C%D0%BA%D0%B8%D0%B9\\\",\\\"request_id\\\":\\\"80da9e4e-b9b0-49d5-ae2e-8f496bb8017c\\\",\\\"id\\\":\\\"b25e523b-e89f-4458-aba9-3a76bb662708\\\",\\\"dt\\\":\\\"2024-11-15T07:12:56Z\\\",\\\"domain\\\":\\\"uk.wikipedia.org\\\",\\\"stream\\\":\\\"mediawiki.recentchange\\\",\\\"topic\\\":\\\"codfw.mediawiki.recentchange\\\",\\\"partition\\\":0,\\\"offset\\\":1249027126},\\\"id\\\":157173755,\\\"type\\\":\\\"edit\\\",\\\"namespace\\\":0,\\\"title\\\":\\\"\\u041c\\u0435\\u0434\\u043e\\u043f\\u0456\\u0439\\u043d\\u0438\\u043a \\u0442\\u0430\\u0441\\u043c\\u0430\\u043d\\u0456\\u0439\\u0441\\u044c\\u043a\\u0438\\u0439\\\",\\\"title_url\\\":\\\"https://uk.wikipedia.org/wiki/%D0%9C%D0%B5%D0%B4%D0%BE%D0%BF%D1%96%D0%B9%D0%BD%D0%B8%D0%BA_%D1%82%D0%B0%D1%81%D0%BC%D0%B0%D0%BD%D1%96%D0%B9%D1%81%D1%8C%D0%BA%D0%B8%D0%B9\\\",\\\"comment\\\":\\\"\\\",\\\"timestamp\\\":1731654776,\\\"user\\\":\\\"Olbiopontik\\\",\\\"bot\\\":false,\\\"notify_url\\\":\\\"https://uk.wikipedia.org/w/index.php?diff=43897606&oldid=43897558\\\",\\\"minor\\\":false,\\\"length\\\":{\\\"old\\\":4147,\\\"new\\\":4204},\\\"revision\\\":{\\\"old\\\":43897558,\\\"new\\\":43897606},\\\"server_url\\\":\\\"https://uk.wikipedia.org\\\",\\\"server_name\\\":\\\"uk.wikipedia.org\\\",\\\"server_script_path\\\":\\\"/w\\\",\\\"wiki\\\":\\\"ukwiki\\\",\\\"parsedcomment\\\":\\\"\\\"}\"                                                                                                                                                                                                                                                                                                                                                                                                                                                                                                                                                                                                                                                                                                                                                                                                                                                                                                                                                              |\n",
      "|\"{\\\"$schema\\\":\\\"/mediawiki/recentchange/1.0.0\\\",\\\"meta\\\":{\\\"uri\\\":\\\"https://commons.wikimedia.org/wiki/File:%D0%90%D0%BB%D0%B5%D0%BA%D1%81%D0%B0%D0%BD%D0%B4%D0%B0%D1%80_%D0%88%D0%BE%D0%B2%D0%B0%D0%BD%D1%87%D0%B5%D0%B2.jpg\\\",\\\"request_id\\\":\\\"1d23b574-1899-4ad5-92b1-2ecb27448049\\\",\\\"id\\\":\\\"f36ab111-14fb-48ca-af49-213a24bc8497\\\",\\\"dt\\\":\\\"2024-11-15T07:12:59Z\\\",\\\"domain\\\":\\\"commons.wikimedia.org\\\",\\\"stream\\\":\\\"mediawiki.recentchange\\\",\\\"topic\\\":\\\"codfw.mediawiki.recentchange\\\",\\\"partition\\\":0,\\\"offset\\\":1249027127},\\\"id\\\":2655168096,\\\"type\\\":\\\"edit\\\",\\\"namespace\\\":6,\\\"title\\\":\\\"File:\\u0410\\u043b\\u0435\\u043a\\u0441\\u0430\\u043d\\u0434\\u0430\\u0440 \\u0408\\u043e\\u0432\\u0430\\u043d\\u0447\\u0435\\u0432.jpg\\\",\\\"title_url\\\":\\\"https://commons.wikimedia.org/wiki/File:%D0%90%D0%BB%D0%B5%D0%BA%D1%81%D0%B0%D0%BD%D0%B4%D0%B0%D1%80_%D0%88%D0%BE%D0%B2%D0%B0%D0%BD%D1%87%D0%B5%D0%B2.jpg\\\",\\\"comment\\\":\\\"/* wbeditentity-update:0| */ automatically modify [[Commons:Structured data|structured data]] based on file information: meta\\\",\\\"timestamp\\\":1731654779,\\\"user\\\":\\\"SchlurcherBot\\\",\\\"bot\\\":true,\\\"notify_url\\\":\\\"https://commons.wikimedia.org/w/index.php?diff=957288246&oldid=957148989&rcid=2655168096\\\",\\\"minor\\\":false,\\\"patrolled\\\":true,\\\"length\\\":{\\\"old\\\":3495,\\\"new\\\":5900},\\\"revision\\\":{\\\"old\\\":957148989,\\\"new\\\":957288246},\\\"server_url\\\":\\\"https://commons.wikimedia.org\\\",\\\"server_name\\\":\\\"commons.wikimedia.org\\\",\\\"server_script_path\\\":\\\"/w\\\",\\\"wiki\\\":\\\"commonswiki\\\",\\\"parsedcomment\\\":\\\"\\u200e<span dir=\\\\\\\"auto\\\\\\\"><span class=\\\\\\\"autocomment\\\\\\\">Ein Objekt ge\\u00e4ndert: </span></span> automatically modify <a href=\\\\\\\"/wiki/Commons:Structured_data\\\\\\\" title=\\\\\\\"Commons:Structured data\\\\\\\">structured data</a> based on file information: meta\\\"}\"                                                                                                                                                                                                                                                                                                                                                                                                                                                                                                                                                  |\n",
      "|\"{\\\"$schema\\\":\\\"/mediawiki/recentchange/1.0.0\\\",\\\"meta\\\":{\\\"uri\\\":\\\"https://fr.wiktionary.org/wiki/Mod%C3%A8le:anagrammes/it/aacegiilmrst\\\",\\\"request_id\\\":\\\"a3f414bd-cbca-463b-87e6-6c839e571fb6\\\",\\\"id\\\":\\\"2918d28b-5f93-499a-a3f6-b50a6e2dbebf\\\",\\\"dt\\\":\\\"2024-11-15T07:12:59Z\\\",\\\"domain\\\":\\\"fr.wiktionary.org\\\",\\\"stream\\\":\\\"mediawiki.recentchange\\\",\\\"topic\\\":\\\"codfw.mediawiki.recentchange\\\",\\\"partition\\\":0,\\\"offset\\\":1249027128},\\\"id\\\":56381771,\\\"type\\\":\\\"new\\\",\\\"namespace\\\":10,\\\"title\\\":\\\"Mod\\u00e8le:anagrammes/it/aacegiilmrst\\\",\\\"title_url\\\":\\\"https://fr.wiktionary.org/wiki/Mod%C3%A8le:anagrammes/it/aacegiilmrst\\\",\\\"comment\\\":\\\"gest. anagrammes\\\",\\\"timestamp\\\":1731654779,\\\"user\\\":\\\"DE8AH\\\",\\\"bot\\\":false,\\\"notify_url\\\":\\\"https://fr.wiktionary.org/w/index.php?oldid=36409771&rcid=56381771\\\",\\\"minor\\\":false,\\\"patrolled\\\":true,\\\"length\\\":{\\\"new\\\":74},\\\"revision\\\":{\\\"new\\\":36409771},\\\"server_url\\\":\\\"https://fr.wiktionary.org\\\",\\\"server_name\\\":\\\"fr.wiktionary.org\\\",\\\"server_script_path\\\":\\\"/w\\\",\\\"wiki\\\":\\\"frwiktionary\\\",\\\"parsedcomment\\\":\\\"gest. anagrammes\\\"}\"                                                                                                                                                                                                                                                                                                                                                                                                                                                                                                                                                                                                                                                                                                                                                                                                                                                                                                                                                                                                                                                                                                                                                                                                                                                     |\n",
      "|\"{\\\"$schema\\\":\\\"/mediawiki/recentchange/1.0.0\\\",\\\"meta\\\":{\\\"uri\\\":\\\"https://en.wikipedia.org/wiki/Category:CS1_errors:_invisible_characters\\\",\\\"request_id\\\":\\\"4d27c91d-c02a-41d0-9145-fbbe99a4aa17\\\",\\\"id\\\":\\\"3f70ebf2-ffc1-4716-a297-89e3143aad6c\\\",\\\"dt\\\":\\\"2024-11-15T07:12:52Z\\\",\\\"domain\\\":\\\"en.wikipedia.org\\\",\\\"stream\\\":\\\"mediawiki.recentchange\\\",\\\"topic\\\":\\\"codfw.mediawiki.recentchange\\\",\\\"partition\\\":0,\\\"offset\\\":1249027129},\\\"id\\\":1841201763,\\\"type\\\":\\\"categorize\\\",\\\"namespace\\\":14,\\\"title\\\":\\\"Category:CS1 errors: invisible characters\\\",\\\"title_url\\\":\\\"https://en.wikipedia.org/wiki/Category:CS1_errors:_invisible_characters\\\",\\\"comment\\\":\\\"[[:Iraivi]] added to category, [[Special:WhatLinksHere/Iraivi|this page is included within other pages]]\\\",\\\"timestamp\\\":1731654772,\\\"user\\\":\\\"Kailash29792\\\",\\\"bot\\\":false,\\\"notify_url\\\":\\\"https://en.wikipedia.org/w/index.php?diff=1257504473&oldid=1257502566\\\",\\\"server_url\\\":\\\"https://en.wikipedia.org\\\",\\\"server_name\\\":\\\"en.wikipedia.org\\\",\\\"server_script_path\\\":\\\"/w\\\",\\\"wiki\\\":\\\"enwiki\\\",\\\"parsedcomment\\\":\\\"<a href=\\\\\\\"/wiki/Iraivi\\\\\\\" title=\\\\\\\"Iraivi\\\\\\\">Iraivi</a> added to category, <a href=\\\\\\\"/wiki/Special:WhatLinksHere/Iraivi\\\\\\\" title=\\\\\\\"Special:WhatLinksHere/Iraivi\\\\\\\">this page is included within other pages</a>\\\"}\"                                                                                                                                                                                                                                                                                                                                                                                                                                                                                                                                                                                                                                                                                                                                                                                                                                                                                                                                                                                                                             |\n",
      "|\"{\\\"$schema\\\":\\\"/mediawiki/recentchange/1.0.0\\\",\\\"meta\\\":{\\\"uri\\\":\\\"https://en.wikipedia.org/wiki/Category:Articles_with_dead_external_links_from_March_2023\\\",\\\"request_id\\\":\\\"4d27c91d-c02a-41d0-9145-fbbe99a4aa17\\\",\\\"id\\\":\\\"e568ed2b-7474-4fcb-860c-62e7961c7999\\\",\\\"dt\\\":\\\"2024-11-15T07:12:52Z\\\",\\\"domain\\\":\\\"en.wikipedia.org\\\",\\\"stream\\\":\\\"mediawiki.recentchange\\\",\\\"topic\\\":\\\"codfw.mediawiki.recentchange\\\",\\\"partition\\\":0,\\\"offset\\\":1249027130},\\\"id\\\":1841201764,\\\"type\\\":\\\"categorize\\\",\\\"namespace\\\":14,\\\"title\\\":\\\"Category:Articles with dead external links from March 2023\\\",\\\"title_url\\\":\\\"https://en.wikipedia.org/wiki/Category:Articles_with_dead_external_links_from_March_2023\\\",\\\"comment\\\":\\\"[[:Iraivi]] removed from category, [[Special:WhatLinksHere/Iraivi|this page is included within other pages]]\\\",\\\"timestamp\\\":1731654772,\\\"user\\\":\\\"Kailash29792\\\",\\\"bot\\\":false,\\\"notify_url\\\":\\\"https://en.wikipedia.org/w/index.php?diff=1257504473&oldid=1257502566\\\",\\\"server_url\\\":\\\"https://en.wikipedia.org\\\",\\\"server_name\\\":\\\"en.wikipedia.org\\\",\\\"server_script_path\\\":\\\"/w\\\",\\\"wiki\\\":\\\"enwiki\\\",\\\"parsedcomment\\\":\\\"<a href=\\\\\\\"/wiki/Iraivi\\\\\\\" title=\\\\\\\"Iraivi\\\\\\\">Iraivi</a> removed from category, <a href=\\\\\\\"/wiki/Special:WhatLinksHere/Iraivi\\\\\\\" title=\\\\\\\"Special:WhatLinksHere/Iraivi\\\\\\\">this page is included within other pages</a>\\\"}\"                                                                                                                                                                                                                                                                                                                                                                                                                                                                                                                                                                                                                                                                                                                                                                                                                                                                                                                                                                  |\n",
      "|\"{\\\"$schema\\\":\\\"/mediawiki/recentchange/1.0.0\\\",\\\"meta\\\":{\\\"uri\\\":\\\"https://commons.wikimedia.org/wiki/File:Eas_Ban,_Cromartyshire_-_geograph-1891151.jpg\\\",\\\"request_id\\\":\\\"f85a2bf2-f9ab-43b3-a3a4-d74e3bd70711\\\",\\\"id\\\":\\\"fc3a04f8-21ad-4c1a-8fe4-031d8acfb258\\\",\\\"dt\\\":\\\"2024-11-15T07:12:59Z\\\",\\\"domain\\\":\\\"commons.wikimedia.org\\\",\\\"stream\\\":\\\"mediawiki.recentchange\\\",\\\"topic\\\":\\\"codfw.mediawiki.recentchange\\\",\\\"partition\\\":0,\\\"offset\\\":1249027131},\\\"id\\\":2655168097,\\\"type\\\":\\\"edit\\\",\\\"namespace\\\":6,\\\"title\\\":\\\"File:Eas Ban, Cromartyshire - geograph-1891151.jpg\\\",\\\"title_url\\\":\\\"https://commons.wikimedia.org/wiki/File:Eas_Ban,_Cromartyshire_-_geograph-1891151.jpg\\\",\\\"comment\\\":\\\"/* wbeditentity-update-languages-and-other-short:0||en */ Adding structured data from Geograph 1891151: label, license, depicts & location\\\",\\\"timestamp\\\":1731654779,\\\"user\\\":\\\"BotMultichillT\\\",\\\"bot\\\":true,\\\"notify_url\\\":\\\"https://commons.wikimedia.org/w/index.php?diff=957288247&oldid=943627858&rcid=2655168097\\\",\\\"minor\\\":false,\\\"patrolled\\\":true,\\\"length\\\":{\\\"old\\\":9382,\\\"new\\\":11297},\\\"revision\\\":{\\\"old\\\":943627858,\\\"new\\\":957288247},\\\"server_url\\\":\\\"https://commons.wikimedia.org\\\",\\\"server_name\\\":\\\"commons.wikimedia.org\\\",\\\"server_script_path\\\":\\\"/w\\\",\\\"wiki\\\":\\\"commonswiki\\\",\\\"parsedcomment\\\":\\\"\\u200e<span dir=\\\\\\\"auto\\\\\\\"><span class=\\\\\\\"autocomment\\\\\\\">Changed label, description and/or aliases in en, and other parts: </span></span> Adding structured data from Geograph 1891151: label, license, depicts &amp; location\\\"}\"                                                                                                                                                                                                                                                                                                                                                                                                                                                                                                                                                                                                                                                                                                                                                                               |\n",
      "|\"{\\\"$schema\\\":\\\"/mediawiki/recentchange/1.0.0\\\",\\\"meta\\\":{\\\"uri\\\":\\\"https://commons.wikimedia.org/wiki/File:2014-10-20_13_26_36_View_south_along_Goose_Creek_Road_where_it_crosses_from_Cassia_County,_Idaho_into_Box_Elder_County,_Utah.jpg\\\",\\\"request_id\\\":\\\"c2937763-84e5-449b-bd0b-ba4147066d08\\\",\\\"id\\\":\\\"374afba3-1d0c-41fd-a3d3-5d6f9066b14b\\\",\\\"dt\\\":\\\"2024-11-15T07:12:59Z\\\",\\\"domain\\\":\\\"commons.wikimedia.org\\\",\\\"stream\\\":\\\"mediawiki.recentchange\\\",\\\"topic\\\":\\\"codfw.mediawiki.recentchange\\\",\\\"partition\\\":0,\\\"offset\\\":1249027132},\\\"id\\\":2655168098,\\\"type\\\":\\\"edit\\\",\\\"namespace\\\":6,\\\"title\\\":\\\"File:2014-10-20 13 26 36 View south along Goose Creek Road where it crosses from Cassia County, Idaho into Box Elder County, Utah.jpg\\\",\\\"title_url\\\":\\\"https://commons.wikimedia.org/wiki/File:2014-10-20_13_26_36_View_south_along_Goose_Creek_Road_where_it_crosses_from_Cassia_County,_Idaho_into_Box_Elder_County,_Utah.jpg\\\",\\\"comment\\\":\\\"/* wbeditentity-update:0| */ automatically adding [[Commons:Structured data|structured data]] based on file information\\\",\\\"timestamp\\\":1731654779,\\\"user\\\":\\\"SchlurcherBot\\\",\\\"bot\\\":true,\\\"notify_url\\\":\\\"https://commons.wikimedia.org/w/index.php?diff=957288248&oldid=911494172&rcid=2655168098\\\",\\\"minor\\\":false,\\\"patrolled\\\":true,\\\"length\\\":{\\\"old\\\":7767,\\\"new\\\":9828},\\\"revision\\\":{\\\"old\\\":911494172,\\\"new\\\":957288248},\\\"server_url\\\":\\\"https://commons.wikimedia.org\\\",\\\"server_name\\\":\\\"commons.wikimedia.org\\\",\\\"server_script_path\\\":\\\"/w\\\",\\\"wiki\\\":\\\"commonswiki\\\",\\\"parsedcomment\\\":\\\"\\u200e<span dir=\\\\\\\"auto\\\\\\\"><span class=\\\\\\\"autocomment\\\\\\\">Changed an entity: </span></span> automatically adding <a href=\\\\\\\"/wiki/Commons:Structured_data\\\\\\\" title=\\\\\\\"Commons:Structured data\\\\\\\">structured data</a> based on file information\\\"}\"                                                                                                                                                                                                                                                                                                                                                                                                                                                                                                                        |\n",
      "|\"{\\\"$schema\\\":\\\"/mediawiki/recentchange/1.0.0\\\",\\\"meta\\\":{\\\"uri\\\":\\\"https://cy.wikipedia.org/wiki/Categori:Pages_using_the_JsonConfig_extension\\\",\\\"request_id\\\":\\\"ebe35898-50b0-4712-8c95-e92858f8e431\\\",\\\"id\\\":\\\"e8fb6e43-696f-49d9-b214-4f781fb60374\\\",\\\"dt\\\":\\\"2024-11-15T07:12:55Z\\\",\\\"domain\\\":\\\"cy.wikipedia.org\\\",\\\"stream\\\":\\\"mediawiki.recentchange\\\",\\\"topic\\\":\\\"codfw.mediawiki.recentchange\\\",\\\"partition\\\":0,\\\"offset\\\":1249027133},\\\"id\\\":30695223,\\\"type\\\":\\\"categorize\\\",\\\"namespace\\\":14,\\\"title\\\":\\\"Categori:Pages using the JsonConfig extension\\\",\\\"title_url\\\":\\\"https://cy.wikipedia.org/wiki/Categori:Pages_using_the_JsonConfig_extension\\\",\\\"comment\\\":\\\"Symudwyd [[:The Great Waldo Pepper]] o'r categori\\\",\\\"timestamp\\\":1731654775,\\\"user\\\":\\\"ListeriaBot\\\",\\\"bot\\\":true,\\\"notify_url\\\":\\\"https://cy.wikipedia.org/w/index.php?diff=13293140&oldid=13278516\\\",\\\"server_url\\\":\\\"https://cy.wikipedia.org\\\",\\\"server_name\\\":\\\"cy.wikipedia.org\\\",\\\"server_script_path\\\":\\\"/w\\\",\\\"wiki\\\":\\\"cywiki\\\",\\\"parsedcomment\\\":\\\"Symudwyd <a href=\\\\\\\"/wiki/The_Great_Waldo_Pepper\\\\\\\" title=\\\\\\\"The Great Waldo Pepper\\\\\\\">The Great Waldo Pepper</a> o&#039;r categori\\\"}\"                                                                                                                                                                                                                                                                                                                                                                                                                                                                                                                                                                                                                                                                                                                                                                                                                                                                                                                                                                                                                                                                                                                                                                   |\n",
      "|\"{\\\"$schema\\\":\\\"/mediawiki/recentchange/1.0.0\\\",\\\"meta\\\":{\\\"uri\\\":\\\"https://www.wikidata.org/wiki/Q93279233\\\",\\\"request_id\\\":\\\"063cba39-f25e-4cdd-a2b8-104828e2a4d3\\\",\\\"id\\\":\\\"1cde7878-527e-4654-9fd2-1a78cccddb5b\\\",\\\"dt\\\":\\\"2024-11-15T07:12:57Z\\\",\\\"domain\\\":\\\"www.wikidata.org\\\",\\\"stream\\\":\\\"mediawiki.recentchange\\\",\\\"topic\\\":\\\"codfw.mediawiki.recentchange\\\",\\\"partition\\\":0,\\\"offset\\\":1249027134},\\\"id\\\":2342955158,\\\"type\\\":\\\"edit\\\",\\\"namespace\\\":0,\\\"title\\\":\\\"Q93279233\\\",\\\"title_url\\\":\\\"https://www.wikidata.org/wiki/Q93279233\\\",\\\"comment\\\":\\\"/* wbeditentity-update-languages-and-other:0||57 */ mv labels and aliases matching [[Property:P528]] or [[Property:P3083]] to mul\\\",\\\"timestamp\\\":1731654777,\\\"user\\\":\\\"Twofivesixbot\\\",\\\"bot\\\":true,\\\"notify_url\\\":\\\"https://www.wikidata.org/w/index.php?diff=2274944896&oldid=2183022139&rcid=2342955158\\\",\\\"minor\\\":false,\\\"patrolled\\\":true,\\\"length\\\":{\\\"old\\\":51866,\\\"new\\\":48120},\\\"revision\\\":{\\\"old\\\":2183022139,\\\"new\\\":2274944896},\\\"server_url\\\":\\\"https://www.wikidata.org\\\",\\\"server_name\\\":\\\"www.wikidata.org\\\",\\\"server_script_path\\\":\\\"/w\\\",\\\"wiki\\\":\\\"wikidatawiki\\\",\\\"parsedcomment\\\":\\\"\\u200e<span dir=\\\\\\\"auto\\\\\\\"><span class=\\\\\\\"autocomment\\\\\\\">Changed label, description and/or aliases in 57 languages, and other parts: </span></span> mv labels and aliases matching <a href=\\\\\\\"/wiki/Property:P528\\\\\\\" title=\\\\\\\"\\u200ecatalog code\\u200e | \\u200ecatalog name of an object, use with qualifier P972\\u200e\\\\\\\"><span class=\\\\\\\"wb-itemlink\\\\\\\"><span class=\\\\\\\"wb-itemlink-label\\\\\\\" lang=\\\\\\\"en\\\\\\\" dir=\\\\\\\"ltr\\\\\\\">catalog code</span> <span class=\\\\\\\"wb-itemlink-id\\\\\\\">(P528)</span></span></a> or <a href=\\\\\\\"/wiki/Property:P3083\\\\\\\" title=\\\\\\\"\\u200eSIMBAD ID\\u200e | \\u200eidentifier for an astronomical object, in the University of Strasbourg&#039;s SIMBAD database\\u200e\\\\\\\"><span class=\\\\\\\"wb-itemlink\\\\\\\"><span class=\\\\\\\"wb-itemlink-label\\\\\\\" lang=\\\\\\\"en\\\\\\\" dir=\\\\\\\"ltr\\\\\\\">SIMBAD ID</span> <span class=\\\\\\\"wb-itemlink-id\\\\\\\">(P3083)</span></span></a> to mul\\\"}\"                                                                                                                                                                                                                                                                   |\n",
      "|\"{\\\"$schema\\\":\\\"/mediawiki/recentchange/1.0.0\\\",\\\"meta\\\":{\\\"uri\\\":\\\"https://ar.wikipedia.org/wiki/%D9%88%D9%81%D9%8A%D8%A7%D8%AA_2024\\\",\\\"request_id\\\":\\\"843caf3b-54cc-4139-8e09-02da2b42e240\\\",\\\"id\\\":\\\"8b46fb94-5cbd-4cf4-b62c-3ae9d985a2cb\\\",\\\"dt\\\":\\\"2024-11-15T07:12:57Z\\\",\\\"domain\\\":\\\"ar.wikipedia.org\\\",\\\"stream\\\":\\\"mediawiki.recentchange\\\",\\\"topic\\\":\\\"codfw.mediawiki.recentchange\\\",\\\"partition\\\":0,\\\"offset\\\":1249027135},\\\"id\\\":313596548,\\\"type\\\":\\\"edit\\\",\\\"namespace\\\":0,\\\"title\\\":\\\"\\u0648\\u0641\\u064a\\u0627\\u062a 2024\\\",\\\"title_url\\\":\\\"https://ar.wikipedia.org/wiki/%D9%88%D9%81%D9%8A%D8%A7%D8%AA_2024\\\",\\\"comment\\\":\\\"\\u0628\\u0648\\u062a:\\u0625\\u0636\\u0627\\u0641\\u0629 \\u0648\\u0635\\u0644\\u0629 \\u0623\\u0631\\u0634\\u064a\\u0641\\u064a\\u0629.\\\",\\\"timestamp\\\":1731654777,\\\"user\\\":\\\"Mr.Ibrahembot\\\",\\\"bot\\\":true,\\\"notify_url\\\":\\\"https://ar.wikipedia.org/w/index.php?diff=68571603&oldid=68571601\\\",\\\"minor\\\":true,\\\"length\\\":{\\\"old\\\":26760,\\\"new\\\":26917},\\\"revision\\\":{\\\"old\\\":68571601,\\\"new\\\":68571603},\\\"server_url\\\":\\\"https://ar.wikipedia.org\\\",\\\"server_name\\\":\\\"ar.wikipedia.org\\\",\\\"server_script_path\\\":\\\"/w\\\",\\\"wiki\\\":\\\"arwiki\\\",\\\"parsedcomment\\\":\\\"\\u0628\\u0648\\u062a:\\u0625\\u0636\\u0627\\u0641\\u0629 \\u0648\\u0635\\u0644\\u0629 \\u0623\\u0631\\u0634\\u064a\\u0641\\u064a\\u0629.\\\"}\"                                                                                                                                                                                                                                                                                                                                                                                                                                                                                                                                                                                                                                                                                                                                                                                                                                                                                                                                                                                                                                        |\n",
      "|\"{\\\"$schema\\\":\\\"/mediawiki/recentchange/1.0.0\\\",\\\"meta\\\":{\\\"uri\\\":\\\"https://en.wikipedia.org/wiki/User:Krisgabwoosh/Arnaldo_Lijer%C3%B3n_Casanovas\\\",\\\"request_id\\\":\\\"fff802fe-6e59-4f1f-8737-c3e2504d9816\\\",\\\"id\\\":\\\"61b393aa-cb08-4b93-b82c-da9240109bd2\\\",\\\"dt\\\":\\\"2024-11-15T07:12:57Z\\\",\\\"domain\\\":\\\"en.wikipedia.org\\\",\\\"stream\\\":\\\"mediawiki.recentchange\\\",\\\"topic\\\":\\\"codfw.mediawiki.recentchange\\\",\\\"partition\\\":0,\\\"offset\\\":1249027136},\\\"id\\\":1841201765,\\\"type\\\":\\\"edit\\\",\\\"namespace\\\":2,\\\"title\\\":\\\"User:Krisgabwoosh/Arnaldo Lijer\\u00f3n Casanovas\\\",\\\"title_url\\\":\\\"https://en.wikipedia.org/wiki/User:Krisgabwoosh/Arnaldo_Lijer%C3%B3n_Casanovas\\\",\\\"comment\\\":\\\"/* Selected publications */\\\",\\\"timestamp\\\":1731654777,\\\"user\\\":\\\"Krisgabwoosh\\\",\\\"bot\\\":false,\\\"notify_url\\\":\\\"https://en.wikipedia.org/w/index.php?diff=1257504477&oldid=1257504414\\\",\\\"minor\\\":false,\\\"length\\\":{\\\"old\\\":16237,\\\"new\\\":16231},\\\"revision\\\":{\\\"old\\\":1257504414,\\\"new\\\":1257504477},\\\"server_url\\\":\\\"https://en.wikipedia.org\\\",\\\"server_name\\\":\\\"en.wikipedia.org\\\",\\\"server_script_path\\\":\\\"/w\\\",\\\"wiki\\\":\\\"enwiki\\\",\\\"parsedcomment\\\":\\\"<span class=\\\\\\\"autocomment\\\\\\\"><a href=\\\\\\\"/wiki/User:Krisgabwoosh/Arnaldo_Lijer%C3%B3n_Casanovas#Selected_publications\\\\\\\" title=\\\\\\\"User:Krisgabwoosh/Arnaldo Lijer\\u00f3n Casanovas\\\\\\\">\\u2192<bdi dir=\\\\\\\"ltr\\\\\\\">Selected publications</bdi></a></span>\\\"}\"                                                                                                                                                                                                                                                                                                                                                                                                                                                                                                                                                                                                                                                                                                                                                                                                                                                                                                                                           |\n",
      "|\"{\\\"$schema\\\":\\\"/mediawiki/recentchange/1.0.0\\\",\\\"meta\\\":{\\\"uri\\\":\\\"https://www.wikidata.org/wiki/Q85700833\\\",\\\"request_id\\\":\\\"c9cc6cd7-57ee-4a43-acdd-c7bbd360d3af\\\",\\\"id\\\":\\\"3694d58f-3af8-4bc9-ab2b-e392cc95a25a\\\",\\\"dt\\\":\\\"2024-11-15T07:12:59Z\\\",\\\"domain\\\":\\\"www.wikidata.org\\\",\\\"stream\\\":\\\"mediawiki.recentchange\\\",\\\"topic\\\":\\\"codfw.mediawiki.recentchange\\\",\\\"partition\\\":0,\\\"offset\\\":1249027137},\\\"id\\\":2342955159,\\\"type\\\":\\\"edit\\\",\\\"namespace\\\":0,\\\"title\\\":\\\"Q85700833\\\",\\\"title_url\\\":\\\"https://www.wikidata.org/wiki/Q85700833\\\",\\\"comment\\\":\\\"/* wbeditentity-update-languages-and-other-short:0||fr, io, nl, dv, de, ext, en, vo, ia, la, it, ast, pt-br, eu, ar, ga, gl, ie, es, pt, ca, eo, mul, pl, oc, an */ mv labels and aliases matching [[Property:P528]] or [[Property:P3083]] to mul\\\",\\\"timestamp\\\":1731654779,\\\"user\\\":\\\"Twofivesixbot\\\",\\\"bot\\\":true,\\\"notify_url\\\":\\\"https://www.wikidata.org/w/index.php?diff=2274944903&oldid=2127479590&rcid=2342955159\\\",\\\"minor\\\":false,\\\"patrolled\\\":true,\\\"length\\\":{\\\"old\\\":36992,\\\"new\\\":35375},\\\"revision\\\":{\\\"old\\\":2127479590,\\\"new\\\":2274944903},\\\"server_url\\\":\\\"https://www.wikidata.org\\\",\\\"server_name\\\":\\\"www.wikidata.org\\\",\\\"server_script_path\\\":\\\"/w\\\",\\\"wiki\\\":\\\"wikidatawiki\\\",\\\"parsedcomment\\\":\\\"\\u200e<span dir=\\\\\\\"auto\\\\\\\"><span class=\\\\\\\"autocomment\\\\\\\">Changed label, description and/or aliases in fr, io, nl, dv, de, ext, en, vo, ia, la, it, ast, pt-br, eu, ar, ga, gl, ie, es, pt, ca, eo, mul, pl, oc, an, and other parts: </span></span> mv labels and aliases matching <a href=\\\\\\\"/wiki/Property:P528\\\\\\\" title=\\\\\\\"\\u200ecatalog code\\u200e | \\u200ecatalog name of an object, use with qualifier P972\\u200e\\\\\\\"><span class=\\\\\\\"wb-itemlink\\\\\\\"><span class=\\\\\\\"wb-itemlink-label\\\\\\\" lang=\\\\\\\"en\\\\\\\" dir=\\\\\\\"ltr\\\\\\\">catalog code</span> <span class=\\\\\\\"wb-itemlink-id\\\\\\\">(P528)</span></span></a> or <a href=\\\\\\\"/wiki/Property:P3083\\\\\\\" title=\\\\\\\"\\u200eSIMBAD ID\\u200e | \\u200eidentifier for an astronomical object, in the University of Strasbourg&#039;s SIMBAD database\\u200e\\\\\\\"><span class=\\\\\\\"wb-itemlink\\\\\\\"><span class=\\\\\\\"wb-itemlink-label\\\\\\\" lang=\\\\\\\"en\\\\\\\" dir=\\\\\\\"ltr\\\\\\\">SIMBAD ID</span> <span class=\\\\\\\"wb-itemlink-id\\\\\\\">(P3083)</span></span></a> to mul\\\"}\"                                                   |\n",
      "|\"{\\\"$schema\\\":\\\"/mediawiki/recentchange/1.0.0\\\",\\\"meta\\\":{\\\"uri\\\":\\\"https://ru.wikipedia.org/wiki/%D0%9A%D0%B0%D1%82%D0%B5%D0%B3%D0%BE%D1%80%D0%B8%D1%8F:%D0%A1%D1%82%D1%80%D0%B0%D0%BD%D0%B8%D1%86%D1%8B,_%D0%B8%D1%81%D0%BF%D0%BE%D0%BB%D1%8C%D0%B7%D1%83%D1%8E%D1%89%D0%B8%D0%B5_%D1%80%D0%B0%D1%81%D1%88%D0%B8%D1%80%D0%B5%D0%BD%D0%B8%D0%B5_JsonConfig\\\",\\\"request_id\\\":\\\"1a737e03-d8db-4760-a704-a3448bac89a9\\\",\\\"id\\\":\\\"bd2ea5da-6935-4f7f-baf6-c7505e47df9e\\\",\\\"dt\\\":\\\"2024-11-15T07:12:55Z\\\",\\\"domain\\\":\\\"ru.wikipedia.org\\\",\\\"stream\\\":\\\"mediawiki.recentchange\\\",\\\"topic\\\":\\\"codfw.mediawiki.recentchange\\\",\\\"partition\\\":0,\\\"offset\\\":1249027138},\\\"id\\\":497350122,\\\"type\\\":\\\"categorize\\\",\\\"namespace\\\":14,\\\"title\\\":\\\"\\u041a\\u0430\\u0442\\u0435\\u0433\\u043e\\u0440\\u0438\\u044f:\\u0421\\u0442\\u0440\\u0430\\u043d\\u0438\\u0446\\u044b, \\u0438\\u0441\\u043f\\u043e\\u043b\\u044c\\u0437\\u0443\\u044e\\u0449\\u0438\\u0435 \\u0440\\u0430\\u0441\\u0448\\u0438\\u0440\\u0435\\u043d\\u0438\\u0435 JsonConfig\\\",\\\"title_url\\\":\\\"https://ru.wikipedia.org/wiki/%D0%9A%D0%B0%D1%82%D0%B5%D0%B3%D0%BE%D1%80%D0%B8%D1%8F:%D0%A1%D1%82%D1%80%D0%B0%D0%BD%D0%B8%D1%86%D1%8B,_%D0%B8%D1%81%D0%BF%D0%BE%D0%BB%D1%8C%D0%B7%D1%83%D1%8E%D1%89%D0%B8%D0%B5_%D1%80%D0%B0%D1%81%D1%88%D0%B8%D1%80%D0%B5%D0%BD%D0%B8%D0%B5_JsonConfig\\\",\\\"comment\\\":\\\"[[:\\u0419\\u043e\\u0448\\u043a\\u0438\\u043d \\u041a\\u043e\\u0442]] \\u0443\\u0431\\u0440\\u0430\\u043d\\u0430 \\u0438\\u0437 \\u043a\\u0430\\u0442\\u0435\\u0433\\u043e\\u0440\\u0438\\u0438\\\",\\\"timestamp\\\":1731654775,\\\"user\\\":\\\"Elrond1 2eleven\\\",\\\"bot\\\":false,\\\"notify_url\\\":\\\"https://ru.wikipedia.org/w/index.php?diff=141523508&oldid=141496513\\\",\\\"server_url\\\":\\\"https://ru.wikipedia.org\\\",\\\"server_name\\\":\\\"ru.wikipedia.org\\\",\\\"server_script_path\\\":\\\"/w\\\",\\\"wiki\\\":\\\"ruwiki\\\",\\\"parsedcomment\\\":\\\"<a href=\\\\\\\"/wiki/%D0%99%D0%BE%D1%88%D0%BA%D0%B8%D0%BD_%D0%9A%D0%BE%D1%82\\\\\\\" class=\\\\\\\"mw-redirect\\\\\\\" title=\\\\\\\"\\u0419\\u043e\\u0448\\u043a\\u0438\\u043d \\u041a\\u043e\\u0442\\\\\\\">\\u0419\\u043e\\u0448\\u043a\\u0438\\u043d \\u041a\\u043e\\u0442</a> \\u0443\\u0431\\u0440\\u0430\\u043d\\u0430 \\u0438\\u0437 \\u043a\\u0430\\u0442\\u0435\\u0433\\u043e\\u0440\\u0438\\u0438\\\"}\"                                                                                                                                                                                        |\n",
      "|\"{\\\"$schema\\\":\\\"/mediawiki/recentchange/1.0.0\\\",\\\"meta\\\":{\\\"uri\\\":\\\"https://ru.wikipedia.org/wiki/%D0%9A%D0%B0%D1%82%D0%B5%D0%B3%D0%BE%D1%80%D0%B8%D1%8F:%D0%92%D0%B8%D0%BA%D0%B8%D0%BF%D0%B5%D0%B4%D0%B8%D1%8F:Cite_web_(%D0%B7%D0%B0%D0%BC%D0%B5%D0%BD%D0%B8%D1%82%D1%8C_webcitation-%D0%B0%D1%80%D1%85%D0%B8%D0%B2:_deadlink_no)\\\",\\\"request_id\\\":\\\"1a737e03-d8db-4760-a704-a3448bac89a9\\\",\\\"id\\\":\\\"0e404921-5697-4c15-aebb-0861f2b3a5b0\\\",\\\"dt\\\":\\\"2024-11-15T07:12:55Z\\\",\\\"domain\\\":\\\"ru.wikipedia.org\\\",\\\"stream\\\":\\\"mediawiki.recentchange\\\",\\\"topic\\\":\\\"codfw.mediawiki.recentchange\\\",\\\"partition\\\":0,\\\"offset\\\":1249027139},\\\"id\\\":497350124,\\\"type\\\":\\\"categorize\\\",\\\"namespace\\\":14,\\\"title\\\":\\\"\\u041a\\u0430\\u0442\\u0435\\u0433\\u043e\\u0440\\u0438\\u044f:\\u0412\\u0438\\u043a\\u0438\\u043f\\u0435\\u0434\\u0438\\u044f:Cite web (\\u0437\\u0430\\u043c\\u0435\\u043d\\u0438\\u0442\\u044c webcitation-\\u0430\\u0440\\u0445\\u0438\\u0432: deadlink no)\\\",\\\"title_url\\\":\\\"https://ru.wikipedia.org/wiki/%D0%9A%D0%B0%D1%82%D0%B5%D0%B3%D0%BE%D1%80%D0%B8%D1%8F:%D0%92%D0%B8%D0%BA%D0%B8%D0%BF%D0%B5%D0%B4%D0%B8%D1%8F:Cite_web_(%D0%B7%D0%B0%D0%BC%D0%B5%D0%BD%D0%B8%D1%82%D1%8C_webcitation-%D0%B0%D1%80%D1%85%D0%B8%D0%B2:_deadlink_no)\\\",\\\"comment\\\":\\\"[[:\\u0419\\u043e\\u0448\\u043a\\u0438\\u043d \\u041a\\u043e\\u0442]] \\u0443\\u0431\\u0440\\u0430\\u043d\\u0430 \\u0438\\u0437 \\u043a\\u0430\\u0442\\u0435\\u0433\\u043e\\u0440\\u0438\\u0438\\\",\\\"timestamp\\\":1731654775,\\\"user\\\":\\\"Elrond1 2eleven\\\",\\\"bot\\\":false,\\\"notify_url\\\":\\\"https://ru.wikipedia.org/w/index.php?diff=141523508&oldid=141496513\\\",\\\"server_url\\\":\\\"https://ru.wikipedia.org\\\",\\\"server_name\\\":\\\"ru.wikipedia.org\\\",\\\"server_script_path\\\":\\\"/w\\\",\\\"wiki\\\":\\\"ruwiki\\\",\\\"parsedcomment\\\":\\\"<a href=\\\\\\\"/wiki/%D0%99%D0%BE%D1%88%D0%BA%D0%B8%D0%BD_%D0%9A%D0%BE%D1%82\\\\\\\" class=\\\\\\\"mw-redirect\\\\\\\" title=\\\\\\\"\\u0419\\u043e\\u0448\\u043a\\u0438\\u043d \\u041a\\u043e\\u0442\\\\\\\">\\u0419\\u043e\\u0448\\u043a\\u0438\\u043d \\u041a\\u043e\\u0442</a> \\u0443\\u0431\\u0440\\u0430\\u043d\\u0430 \\u0438\\u0437 \\u043a\\u0430\\u0442\\u0435\\u0433\\u043e\\u0440\\u0438\\u0438\\\"}\"                                                                                                                                                                                                                                                                |\n",
      "|\"{\\\"$schema\\\":\\\"/mediawiki/recentchange/1.0.0\\\",\\\"meta\\\":{\\\"uri\\\":\\\"https://ru.wikipedia.org/wiki/%D0%9F%D1%80%D0%BE%D0%B5%D0%BA%D1%82:%D0%A1%D0%BB%D0%BE%D0%B2%D0%BD%D0%B8%D0%BA%D0%B8/%D0%9D%D0%B5%D1%81%D1%83%D1%89%D0%B5%D1%81%D1%82%D0%B2%D1%83%D1%8E%D1%89%D0%B8%D0%B5_%D0%B1%D0%B8%D0%BE%D0%B3%D1%80%D0%B0%D1%84%D0%B8%D1%87%D0%B5%D1%81%D0%BA%D0%B8%D0%B5_%D1%81%D1%82%D0%B0%D1%82%D1%8C%D0%B8_%D0%B8%D0%B7_%D0%91%D0%A0%D0%AD\\\",\\\"request_id\\\":\\\"fef0cc77-3ae3-4307-b843-93bd59921a91\\\",\\\"id\\\":\\\"026387fe-6520-4a30-848a-20ab29c14e3c\\\",\\\"dt\\\":\\\"2024-11-15T07:12:55Z\\\",\\\"domain\\\":\\\"ru.wikipedia.org\\\",\\\"stream\\\":\\\"mediawiki.recentchange\\\",\\\"topic\\\":\\\"codfw.mediawiki.recentchange\\\",\\\"partition\\\":0,\\\"offset\\\":1249027140},\\\"id\\\":497350123,\\\"type\\\":\\\"edit\\\",\\\"namespace\\\":104,\\\"title\\\":\\\"\\u041f\\u0440\\u043e\\u0435\\u043a\\u0442:\\u0421\\u043b\\u043e\\u0432\\u043d\\u0438\\u043a\\u0438/\\u041d\\u0435\\u0441\\u0443\\u0449\\u0435\\u0441\\u0442\\u0432\\u0443\\u044e\\u0449\\u0438\\u0435 \\u0431\\u0438\\u043e\\u0433\\u0440\\u0430\\u0444\\u0438\\u0447\\u0435\\u0441\\u043a\\u0438\\u0435 \\u0441\\u0442\\u0430\\u0442\\u044c\\u0438 \\u0438\\u0437 \\u0411\\u0420\\u042d\\\",\\\"title_url\\\":\\\"https://ru.wikipedia.org/wiki/%D0%9F%D1%80%D0%BE%D0%B5%D0%BA%D1%82:%D0%A1%D0%BB%D0%BE%D0%B2%D0%BD%D0%B8%D0%BA%D0%B8/%D0%9D%D0%B5%D1%81%D1%83%D1%89%D0%B5%D1%81%D1%82%D0%B2%D1%83%D1%8E%D1%89%D0%B8%D0%B5_%D0%B1%D0%B8%D0%BE%D0%B3%D1%80%D0%B0%D1%84%D0%B8%D1%87%D0%B5%D1%81%D0%BA%D0%B8%D0%B5_%D1%81%D1%82%D0%B0%D1%82%D1%8C%D0%B8_%D0%B8%D0%B7_%D0%91%D0%A0%D0%AD\\\",\\\"comment\\\":\\\"\\\",\\\"timestamp\\\":1731654775,\\\"user\\\":\\\"176.77.32.236\\\",\\\"bot\\\":false,\\\"notify_url\\\":\\\"https://ru.wikipedia.org/w/index.php?diff=141523509&oldid=141418193\\\",\\\"minor\\\":false,\\\"length\\\":{\\\"old\\\":102856,\\\"new\\\":102680},\\\"revision\\\":{\\\"old\\\":141418193,\\\"new\\\":141523509},\\\"server_url\\\":\\\"https://ru.wikipedia.org\\\",\\\"server_name\\\":\\\"ru.wikipedia.org\\\",\\\"server_script_path\\\":\\\"/w\\\",\\\"wiki\\\":\\\"ruwiki\\\",\\\"parsedcomment\\\":\\\"\\\"}\"                                                                                                                                                                                                                                                                                                                                                                       |\n",
      "+----------------------------------------------------------------------------------------------------------------------------------------------------------------------------------------------------------------------------------------------------------------------------------------------------------------------------------------------------------------------------------------------------------------------------------------------------------------------------------------------------------------------------------------------------------------------------------------------------------------------------------------------------------------------------------------------------------------------------------------------------------------------------------------------------------------------------------------------------------------------------------------------------------------------------------------------------------------------------------------------------------------------------------------------------------------------------------------------------------------------------------------------------------------------------------------------------------------------------------------------------------------------------------------------------------------------------------------------------------------------------------------------------------------------------------------------------------------------------------------------------------------------------------------------------------------------------------------------------------------------------------------------------------------------------------------------------------------------------------------------------------------------------------------------------------------------------------------------------------------------------------------------------------------------------------------------------------------------------------------------------------------------------------------------------------------------------------------------------------------------------------------------------------------------------------------------------------------------------------------------------------------------------------------------------------------------------------------------------------------+\n",
      "only showing top 20 rows\n",
      "\n"
     ]
    },
    {
     "name": "stderr",
     "output_type": "stream",
     "text": [
      "                                                                                \r"
     ]
    }
   ],
   "source": [
    "df1.show(truncate=False)"
   ]
  },
  {
   "cell_type": "code",
   "execution_count": 125,
   "metadata": {},
   "outputs": [
    {
     "name": "stderr",
     "output_type": "stream",
     "text": [
      "24/11/15 17:12:48 WARN AdminClientConfig: The configuration 'key.deserializer' was supplied but isn't a known config.\n",
      "24/11/15 17:12:48 WARN AdminClientConfig: The configuration 'value.deserializer' was supplied but isn't a known config.\n",
      "24/11/15 17:12:48 WARN AdminClientConfig: The configuration 'enable.auto.commit' was supplied but isn't a known config.\n",
      "24/11/15 17:12:48 WARN AdminClientConfig: The configuration 'max.poll.records' was supplied but isn't a known config.\n",
      "24/11/15 17:12:48 WARN AdminClientConfig: The configuration 'auto.offset.reset' was supplied but isn't a known config.\n"
     ]
    },
    {
     "name": "stdout",
     "output_type": "stream",
     "text": [
      "+-------+----+----------+----+----+------+------+-----+---------+------+----+----+---------+-----+---------+-------+---------+----+----+----------+-----+---------+----+----+----+----+----------+-----------+------------------+----+--------------------+--------------------+\n",
      "|$schema| uri|request_id|  id|  dt|domain|stream|topic|partition|offset|  id|type|namespace|title|title_url|comment|timestamp|user| bot|notify_url|minor|patrolled| old| new| old| new|server_url|server_name|server_script_path|wiki|               topic|           timestamp|\n",
      "+-------+----+----------+----+----+------+------+-----+---------+------+----+----+---------+-----+---------+-------+---------+----+----+----------+-----+---------+----+----+----+----+----------+-----------+------------------+----+--------------------+--------------------+\n",
      "|   null|null|      null|null|null|  null|  null| null|     null|  null|null|null|     null| null|     null|   null|     null|null|null|      null| null|     null|null|null|null|null|      null|       null|              null|null|wikimedia_data_topic|2024-11-15 12:57:...|\n",
      "|   null|null|      null|null|null|  null|  null| null|     null|  null|null|null|     null| null|     null|   null|     null|null|null|      null| null|     null|null|null|null|null|      null|       null|              null|null|wikimedia_data_topic|2024-11-15 12:58:...|\n",
      "|   null|null|      null|null|null|  null|  null| null|     null|  null|null|null|     null| null|     null|   null|     null|null|null|      null| null|     null|null|null|null|null|      null|       null|              null|null|wikimedia_data_topic|2024-11-15 12:58:...|\n",
      "|   null|null|      null|null|null|  null|  null| null|     null|  null|null|null|     null| null|     null|   null|     null|null|null|      null| null|     null|null|null|null|null|      null|       null|              null|null|wikimedia_data_topic|2024-11-15 12:58:...|\n",
      "|   null|null|      null|null|null|  null|  null| null|     null|  null|null|null|     null| null|     null|   null|     null|null|null|      null| null|     null|null|null|null|null|      null|       null|              null|null|wikimedia_data_topic|2024-11-15 12:58:...|\n",
      "|   null|null|      null|null|null|  null|  null| null|     null|  null|null|null|     null| null|     null|   null|     null|null|null|      null| null|     null|null|null|null|null|      null|       null|              null|null|wikimedia_data_topic|2024-11-15 12:58:...|\n",
      "|   null|null|      null|null|null|  null|  null| null|     null|  null|null|null|     null| null|     null|   null|     null|null|null|      null| null|     null|null|null|null|null|      null|       null|              null|null|wikimedia_data_topic|2024-11-15 12:58:...|\n",
      "|   null|null|      null|null|null|  null|  null| null|     null|  null|null|null|     null| null|     null|   null|     null|null|null|      null| null|     null|null|null|null|null|      null|       null|              null|null|wikimedia_data_topic|2024-11-15 12:58:...|\n",
      "|   null|null|      null|null|null|  null|  null| null|     null|  null|null|null|     null| null|     null|   null|     null|null|null|      null| null|     null|null|null|null|null|      null|       null|              null|null|wikimedia_data_topic|2024-11-15 12:58:...|\n",
      "|   null|null|      null|null|null|  null|  null| null|     null|  null|null|null|     null| null|     null|   null|     null|null|null|      null| null|     null|null|null|null|null|      null|       null|              null|null|wikimedia_data_topic|2024-11-15 12:58:...|\n",
      "|   null|null|      null|null|null|  null|  null| null|     null|  null|null|null|     null| null|     null|   null|     null|null|null|      null| null|     null|null|null|null|null|      null|       null|              null|null|wikimedia_data_topic|2024-11-15 12:58:...|\n",
      "|   null|null|      null|null|null|  null|  null| null|     null|  null|null|null|     null| null|     null|   null|     null|null|null|      null| null|     null|null|null|null|null|      null|       null|              null|null|wikimedia_data_topic|2024-11-15 12:58:...|\n",
      "|   null|null|      null|null|null|  null|  null| null|     null|  null|null|null|     null| null|     null|   null|     null|null|null|      null| null|     null|null|null|null|null|      null|       null|              null|null|wikimedia_data_topic|2024-11-15 12:58:...|\n",
      "|   null|null|      null|null|null|  null|  null| null|     null|  null|null|null|     null| null|     null|   null|     null|null|null|      null| null|     null|null|null|null|null|      null|       null|              null|null|wikimedia_data_topic|2024-11-15 12:58:...|\n",
      "|   null|null|      null|null|null|  null|  null| null|     null|  null|null|null|     null| null|     null|   null|     null|null|null|      null| null|     null|null|null|null|null|      null|       null|              null|null|wikimedia_data_topic|2024-11-15 12:58:...|\n",
      "|   null|null|      null|null|null|  null|  null| null|     null|  null|null|null|     null| null|     null|   null|     null|null|null|      null| null|     null|null|null|null|null|      null|       null|              null|null|wikimedia_data_topic|2024-11-15 12:58:...|\n",
      "|   null|null|      null|null|null|  null|  null| null|     null|  null|null|null|     null| null|     null|   null|     null|null|null|      null| null|     null|null|null|null|null|      null|       null|              null|null|wikimedia_data_topic|2024-11-15 12:58:...|\n",
      "|   null|null|      null|null|null|  null|  null| null|     null|  null|null|null|     null| null|     null|   null|     null|null|null|      null| null|     null|null|null|null|null|      null|       null|              null|null|wikimedia_data_topic|2024-11-15 12:58:...|\n",
      "|   null|null|      null|null|null|  null|  null| null|     null|  null|null|null|     null| null|     null|   null|     null|null|null|      null| null|     null|null|null|null|null|      null|       null|              null|null|wikimedia_data_topic|2024-11-15 12:58:...|\n",
      "|   null|null|      null|null|null|  null|  null| null|     null|  null|null|null|     null| null|     null|   null|     null|null|null|      null| null|     null|null|null|null|null|      null|       null|              null|null|wikimedia_data_topic|2024-11-15 12:58:...|\n",
      "+-------+----+----------+----+----+------+------+-----+---------+------+----+----+---------+-----+---------+-------+---------+----+----+----------+-----+---------+----+----+----+----+----------+-----------+------------------+----+--------------------+--------------------+\n",
      "only showing top 20 rows\n",
      "\n"
     ]
    }
   ],
   "source": [
    "from pyspark.sql.types import StructType, StructField, StringType, IntegerType, BooleanType, TimestampType\n",
    "schema = StructType([\n",
    "    StructField(\"$schema\", StringType(), True),\n",
    "    StructField(\"meta\", StructType([\n",
    "        StructField(\"uri\", StringType(), True),\n",
    "        StructField(\"request_id\", StringType(), True),\n",
    "        StructField(\"id\", StringType(), True),\n",
    "        StructField(\"dt\", TimestampType(), True),\n",
    "        StructField(\"domain\", StringType(), True),\n",
    "        StructField(\"stream\", StringType(), True),\n",
    "        StructField(\"topic\", StringType(), True),\n",
    "        StructField(\"partition\", IntegerType(), True),\n",
    "        StructField(\"offset\", IntegerType(), True),\n",
    "    ]), True),\n",
    "    StructField(\"id\", IntegerType(), True),\n",
    "    StructField(\"type\", StringType(), True),\n",
    "    StructField(\"namespace\", IntegerType(), True),\n",
    "    StructField(\"title\", StringType(), True),\n",
    "    StructField(\"title_url\", StringType(), True),\n",
    "    StructField(\"comment\", StringType(), True),\n",
    "    StructField(\"timestamp\", IntegerType(), True),\n",
    "    StructField(\"user\", StringType(), True),\n",
    "    StructField(\"bot\", BooleanType(), True),\n",
    "    StructField(\"notify_url\", StringType(), True),\n",
    "    StructField(\"minor\", BooleanType(), True),\n",
    "    StructField(\"patrolled\", BooleanType(), True),\n",
    "    StructField(\"length\", StructType([\n",
    "        StructField(\"old\", IntegerType(), True),\n",
    "        StructField(\"new\", IntegerType(), True),\n",
    "    ]), True),\n",
    "    StructField(\"revision\", StructType([\n",
    "        StructField(\"old\", IntegerType(), True),\n",
    "        StructField(\"new\", IntegerType(), True),\n",
    "    ]), True),\n",
    "    StructField(\"server_url\", StringType(), True),\n",
    "    StructField(\"server_name\", StringType(), True),\n",
    "    StructField(\"server_script_path\", StringType(), True),\n",
    "    StructField(\"wiki\", StringType(), True),\n",
    "])\n",
    "\n",
    "df_parsed = df.select(\n",
    "    F.from_json(df.value.cast(\"string\"), schema).alias(\"parsed_value\"),\"topic\",\"timestamp\"\n",
    ")\n",
    "\n",
    "# Step 3: Extract fields from the parsed JSON and select the necessary columns\n",
    "df_final = df_parsed.select(\n",
    "    \"parsed_value.$schema\",\n",
    "    \"parsed_value.meta.uri\",\n",
    "    \"parsed_value.meta.request_id\",\n",
    "    \"parsed_value.meta.id\",\n",
    "    \"parsed_value.meta.dt\",\n",
    "    \"parsed_value.meta.domain\",\n",
    "    \"parsed_value.meta.stream\",\n",
    "    \"parsed_value.meta.topic\",\n",
    "    \"parsed_value.meta.partition\",\n",
    "    \"parsed_value.meta.offset\",\n",
    "    \"parsed_value.id\",\n",
    "    \"parsed_value.type\",\n",
    "    \"parsed_value.namespace\",\n",
    "    \"parsed_value.title\",\n",
    "    \"parsed_value.title_url\",\n",
    "    \"parsed_value.comment\",\n",
    "    \"parsed_value.timestamp\",\n",
    "    \"parsed_value.user\",\n",
    "    \"parsed_value.bot\",\n",
    "    \"parsed_value.notify_url\",\n",
    "    \"parsed_value.minor\",\n",
    "    \"parsed_value.patrolled\",\n",
    "    \"parsed_value.length.old\",\n",
    "    \"parsed_value.length.new\",\n",
    "    \"parsed_value.revision.old\",\n",
    "    \"parsed_value.revision.new\",\n",
    "    \"parsed_value.server_url\",\n",
    "    \"parsed_value.server_name\",\n",
    "    \"parsed_value.server_script_path\",\n",
    "    \"parsed_value.wiki\",\n",
    "    \"topic\",\"timestamp\"\n",
    ")\n",
    "df_final.show()\n"
   ]
  },
  {
   "cell_type": "code",
   "execution_count": 174,
   "metadata": {},
   "outputs": [
    {
     "name": "stderr",
     "output_type": "stream",
     "text": [
      "24/11/15 18:22:57 WARN AdminClientConfig: The configuration 'key.deserializer' was supplied but isn't a known config.\n",
      "24/11/15 18:22:57 WARN AdminClientConfig: The configuration 'value.deserializer' was supplied but isn't a known config.\n",
      "24/11/15 18:22:57 WARN AdminClientConfig: The configuration 'enable.auto.commit' was supplied but isn't a known config.\n",
      "24/11/15 18:22:57 WARN AdminClientConfig: The configuration 'max.poll.records' was supplied but isn't a known config.\n",
      "24/11/15 18:22:57 WARN AdminClientConfig: The configuration 'auto.offset.reset' was supplied but isn't a known config.\n"
     ]
    },
    {
     "data": {
      "text/plain": [
       "182"
      ]
     },
     "execution_count": 174,
     "metadata": {},
     "output_type": "execute_result"
    }
   ],
   "source": [
    "df_final.count()"
   ]
  },
  {
   "cell_type": "code",
   "execution_count": 177,
   "metadata": {},
   "outputs": [
    {
     "name": "stderr",
     "output_type": "stream",
     "text": [
      "24/11/15 18:24:04 WARN AdminClientConfig: The configuration 'key.deserializer' was supplied but isn't a known config.\n",
      "24/11/15 18:24:04 WARN AdminClientConfig: The configuration 'value.deserializer' was supplied but isn't a known config.\n",
      "24/11/15 18:24:04 WARN AdminClientConfig: The configuration 'enable.auto.commit' was supplied but isn't a known config.\n",
      "24/11/15 18:24:04 WARN AdminClientConfig: The configuration 'max.poll.records' was supplied but isn't a known config.\n",
      "24/11/15 18:24:04 WARN AdminClientConfig: The configuration 'auto.offset.reset' was supplied but isn't a known config.\n"
     ]
    },
    {
     "data": {
      "text/plain": [
       "182"
      ]
     },
     "execution_count": 177,
     "metadata": {},
     "output_type": "execute_result"
    }
   ],
   "source": [
    "df_final.filter(F.col(\"request_id\").isNull()).count()"
   ]
  },
  {
   "cell_type": "code",
   "execution_count": 120,
   "metadata": {},
   "outputs": [
    {
     "name": "stdout",
     "output_type": "stream",
     "text": [
      "+------+----+----+-----+----+----------+------+----+\n",
      "|schema|meta|id  |title|bot |notify_url|length|wiki|\n",
      "+------+----+----+-----+----+----------+------+----+\n",
      "|null  |null|null|null |null|null      |null  |null|\n",
      "+------+----+----+-----+----+----------+------+----+\n",
      "\n"
     ]
    }
   ],
   "source": [
    "\n",
    "#{\"$schema\":\"/mediawiki/recentchange/1.0.0\",\"meta\":{\"uri\":\"https://commons.wikimedia.org/wiki/File:Florida_Tropical_House_NPS.jpg\",\"request_id\":\"0c4303be-f77f-4c51-8691-9ff1571c6298\",\"id\":\"56cf14b8-fb3e-4c2d-b96b-25e88060b96d\",\"dt\":\"2024-11-15T07:12:58Z\",\"domain\":\"commons.wikimedia.org\",\"stream\":\"mediawiki.recentchange\",\"topic\":\"codfw.mediawiki.recentchange\",\"partition\":0,\"offset\":1249027121},\"id\":2655168092,\"type\":\"edit\",\"namespace\":6,\"title\":\"File:Florida Tropical House NPS.jpg\",\"title_url\":\"https://commons.wikimedia.org/wiki/File:Florida_Tropical_House_NPS.jpg\",\"comment\":\"/* wbsetclaim-update:2||1|2 */ [[d:Special:EntityPage/P6216]]: [[d:Special:EntityPage/Q19652]], updating based on [[Template:PD-USGov-NPS]]\",\"timestamp\":1731654778,\"user\":\"BotMultichillT\",\"bot\":true,\"notify_url\":\"https://commons.wikimedia.org/w/index.php?diff=957288243&oldid=709348572&rcid=2655168092\",\"minor\":false,\"patrolled\":true,\"length\":{\"old\":4685,\"new\":5358},\"revision\":{\"old\":709348572,\"new\":957288243},\"server_url\":\"https://commons.wikimedia.org\",\"server_name\":\"commons.wikimedia.org\",\"server_script_path\":\"/w\",\"wiki\":\"commonswiki\",\"parsedcomment\":\"u200e<span dir=\"auto\"><span class=\"autocomment\">Changed claim: </span></span> <a href=\"https://www.wikidata.org/wiki/Special:EntityPage/P6216\" class=\"extiw\" title=\"u200ecopyright statusu200e | u200ecopyright status for intellectual creations like works of art, publications, software, etc.u200e\"><span class=\"wb-itemlink\"><span class=\"wb-itemlink-label\" lang=\"en\" dir=\"ltr\">copyright status</span> <span class=\"wb-itemlink-id\">(P6216)</span></span></a>: <a href=\"https://www.wikidata.org/wiki/Special:EntityPage/Q19652\" class=\"extiw\" title=\"u200epublic domainu200e | u200eno exclusive intellectual property rights applyu200e\"><span class=\"wb-itemlink\"><span class=\"wb-itemlink-label\" lang=\"en\" dir=\"ltr\">public domain</span> <span class=\"wb-itemlink-id\">(Q19652)</span></span></a>, updating based on <a href=\"/wiki/Template:PD-USGov-NPS\" title=\"Template:PD-USGov-NPS\">Template:PD-USGov-NPS</a>\"}\n",
    "\n",
    "\n",
    "file_path = \"/home/gauravthagunna/Desktop/projects/kafka-projects/wikimedia_processing/data_sample/data_wikimedia_test.json\"\n",
    "\n",
    "def getSchema():\n",
    "    return \"\"\"schema string , meta struct <uri string, request_id string, id string, dt string, partition string >,\n",
    "    id bigint,title string, bot boolean, notify_url string, length struct <old string, new string>,wiki string\n",
    "        \"\"\"\n",
    "def getSchema2():\n",
    "    return \"\"\"schema string \"\"\"\n",
    "df = (spark.read\n",
    "                    .format(\"json\")\n",
    "                    .schema(getSchema())\n",
    "                    .load(f\"{file_path}\")\n",
    "                )   \n",
    "df.show(truncate=False)"
   ]
  },
  {
   "cell_type": "code",
   "execution_count": 173,
   "metadata": {},
   "outputs": [
    {
     "name": "stderr",
     "output_type": "stream",
     "text": [
      "24/11/15 18:20:50 WARN AdminClientConfig: The configuration 'key.deserializer' was supplied but isn't a known config.\n",
      "24/11/15 18:20:50 WARN AdminClientConfig: The configuration 'value.deserializer' was supplied but isn't a known config.\n",
      "24/11/15 18:20:50 WARN AdminClientConfig: The configuration 'enable.auto.commit' was supplied but isn't a known config.\n",
      "24/11/15 18:20:50 WARN AdminClientConfig: The configuration 'max.poll.records' was supplied but isn't a known config.\n",
      "24/11/15 18:20:50 WARN AdminClientConfig: The configuration 'auto.offset.reset' was supplied but isn't a known config.\n"
     ]
    },
    {
     "name": "stdout",
     "output_type": "stream",
     "text": [
      "+--------------------+--------------------+--------------------+--------------------+--------------------+-----------------+--------------------+---------+----+---------+--------------------+-------------+-----+-----+----------+------+------+---------+---------+-----------------+------------+\n",
      "|              schema|                 uri|          request_id|                  id|                  dt|           domain|              stream|       id|type|namespace|               title|         user|  bot|minor|pantrolled|   old|   new|      old|      new|      server_name|        wiki|\n",
      "+--------------------+--------------------+--------------------+--------------------+--------------------+-----------------+--------------------+---------+----+---------+--------------------+-------------+-----+-----+----------+------+------+---------+---------+-----------------+------------+\n",
      "|                null|                null|                null|                null|                null|             null|                null|     null|null|     null|                null|         null| null| null|      null|  null|  null|     null|     null|             null|        null|\n",
      "|                null|                null|                null|                null|                null|             null|                null|     null|null|     null|                null|         null| null| null|      null|  null|  null|     null|     null|             null|        null|\n",
      "|                null|                null|                null|                null|                null|             null|                null|     null|null|     null|                null|         null| null| null|      null|  null|  null|     null|     null|             null|        null|\n",
      "|                null|                null|                null|                null|                null|             null|                null|     null|null|     null|                null|         null| null| null|      null|  null|  null|     null|     null|             null|        null|\n",
      "|                null|                null|                null|                null|                null|             null|                null|     null|null|     null|                null|         null| null| null|      null|  null|  null|     null|     null|             null|        null|\n",
      "|/mediawiki/recent...|https://uk.wikipe...|80da9e4e-b9b0-49d...|b25e523b-e89f-445...|2024-11-15T07:12:56Z| uk.wikipedia.org|mediawiki.recentc...|157173755|edit|        0|u041cu0435u0434u0...|  Olbiopontik|false|false|      null|  4147|  4204| 43897558| 43897606| uk.wikipedia.org|      ukwiki|\n",
      "|                null|                null|                null|                null|                null|             null|                null|     null|null|     null|                null|         null| null| null|      null|  null|  null|     null|     null|             null|        null|\n",
      "|/mediawiki/recent...|https://fr.wiktio...|a3f414bd-cbca-463...|2918d28b-5f93-499...|2024-11-15T07:12:59Z|fr.wiktionary.org|mediawiki.recentc...| 56381771| new|       10|Modu00e8le:anagra...|        DE8AH|false|false|      null|  null|    74|     null| 36409771|fr.wiktionary.org|frwiktionary|\n",
      "|                null|                null|                null|                null|                null|             null|                null|     null|null|     null|                null|         null| null| null|      null|  null|  null|     null|     null|             null|        null|\n",
      "|                null|                null|                null|                null|                null|             null|                null|     null|null|     null|                null|         null| null| null|      null|  null|  null|     null|     null|             null|        null|\n",
      "|                null|                null|                null|                null|                null|             null|                null|     null|null|     null|                null|         null| null| null|      null|  null|  null|     null|     null|             null|        null|\n",
      "|                null|                null|                null|                null|                null|             null|                null|     null|null|     null|                null|         null| null| null|      null|  null|  null|     null|     null|             null|        null|\n",
      "|                null|                null|                null|                null|                null|             null|                null|     null|null|     null|                null|         null| null| null|      null|  null|  null|     null|     null|             null|        null|\n",
      "|                null|                null|                null|                null|                null|             null|                null|     null|null|     null|                null|         null| null| null|      null|  null|  null|     null|     null|             null|        null|\n",
      "|/mediawiki/recent...|https://ar.wikipe...|843caf3b-54cc-413...|8b46fb94-5cbd-4cf...|2024-11-15T07:12:57Z| ar.wikipedia.org|mediawiki.recentc...|313596548|edit|        0|u0648u0641u064au0...|Mr.Ibrahembot| true| true|      null| 26760| 26917| 68571601| 68571603| ar.wikipedia.org|      arwiki|\n",
      "|                null|                null|                null|                null|                null|             null|                null|     null|null|     null|                null|         null| null| null|      null|  null|  null|     null|     null|             null|        null|\n",
      "|                null|                null|                null|                null|                null|             null|                null|     null|null|     null|                null|         null| null| null|      null|  null|  null|     null|     null|             null|        null|\n",
      "|                null|                null|                null|                null|                null|             null|                null|     null|null|     null|                null|         null| null| null|      null|  null|  null|     null|     null|             null|        null|\n",
      "|                null|                null|                null|                null|                null|             null|                null|     null|null|     null|                null|         null| null| null|      null|  null|  null|     null|     null|             null|        null|\n",
      "|/mediawiki/recent...|https://ru.wikipe...|fef0cc77-3ae3-430...|026387fe-6520-4a3...|2024-11-15T07:12:55Z| ru.wikipedia.org|mediawiki.recentc...|497350123|edit|      104|u041fu0440u043eu0...|176.77.32.236|false|false|      null|102856|102680|141418193|141523509| ru.wikipedia.org|      ruwiki|\n",
      "+--------------------+--------------------+--------------------+--------------------+--------------------+-----------------+--------------------+---------+----+---------+--------------------+-------------+-----+-----+----------+------+------+---------+---------+-----------------+------------+\n",
      "only showing top 20 rows\n",
      "\n"
     ]
    },
    {
     "name": "stderr",
     "output_type": "stream",
     "text": [
      "                                                                                \r"
     ]
    }
   ],
   "source": [
    "\n",
    "#WORKING VERSION \n",
    "\n",
    "# Replace escaped backslashes with single ones to ensure correct parsing\n",
    "df = df.withColumn('value',F.col(\"value\").cast(\"string\"))\n",
    "parsed_data = df.withColumn(\"value_clean\", F.regexp_replace(\"value\", r'\\\\\\\\', r'\\\\'))\n",
    "# Remove backslashes from the start of key names and values, as well as the quotes at the start and end\n",
    "parsed_data = parsed_data.withColumn(\n",
    "    \"value_clean\",\n",
    "    F.regexp_replace(F.col(\"value_clean\"), r'\\\\', '')\n",
    ")\n",
    "\n",
    "# Also remove double quotes at the beginning and end if not done already\n",
    "parsed_data = parsed_data.withColumn(\n",
    "    \"value_clean\",\n",
    "    F.regexp_replace(F.col(\"value_clean\"), r'^\"|\"$', '')\n",
    ")\n",
    "parsed_data = parsed_data.withColumn(\"value_clean\", F.regexp_replace(\"value_clean\", r\"\\$\", \"\"))\n",
    "\n",
    "\n",
    "simple_schema = \"\"\"schema string , meta struct <uri string, request_id string, id string, dt string, domain string, stream string >,\n",
    "                    id bigint, type string, namespace string, title string, user string, bot string, minor boolean, pantrolled boolean,\n",
    "                    length struct < old int, new int >,revision struct < old bigint, new bigint>,server_name string, wiki string\n",
    "\"\"\"\n",
    "\n",
    "\n",
    "df_parsed = parsed_data.withColumn(\"data\", F.from_json(F.col(\"value_clean\"), simple_schema))\n",
    "df_parsed = (df_parsed.select(\"data.schema\", \"data.meta.uri\", \n",
    "                              \"data.meta.request_id\",\"data.meta.id\",\"data.meta.dt\",\"data.meta.domain\",\"data.meta.stream\",\n",
    "                              \"data.id\",\"data.type\",\"data.namespace\",\"data.title\",\"data.user\",\"data.bot\",\"data.minor\",\"data.pantrolled\",\"data.length.old\",\"data.length.new\",\n",
    "                              \"data.revision.old\",\"data.revision.new\",\"data.server_name\",\"data.wiki\"\n",
    "                              \n",
    "                              ))\n",
    "# df_parsed = df_parsed.withColumnRenamed(\"json_data.$schema\",\"schema\").withColumnRenamed(\"json_data.type\",\"type\").withColumnRenamed(\"json_data.id\",\"id\")\n",
    "df_parsed.show()\n",
    "\n",
    "# parsed_data.show()"
   ]
  },
  {
   "cell_type": "code",
   "execution_count": 163,
   "metadata": {},
   "outputs": [
    {
     "name": "stderr",
     "output_type": "stream",
     "text": [
      "24/11/15 17:48:08 WARN AdminClientConfig: The configuration 'key.deserializer' was supplied but isn't a known config.\n",
      "24/11/15 17:48:08 WARN AdminClientConfig: The configuration 'value.deserializer' was supplied but isn't a known config.\n",
      "24/11/15 17:48:08 WARN AdminClientConfig: The configuration 'enable.auto.commit' was supplied but isn't a known config.\n",
      "24/11/15 17:48:08 WARN AdminClientConfig: The configuration 'max.poll.records' was supplied but isn't a known config.\n",
      "24/11/15 17:48:08 WARN AdminClientConfig: The configuration 'auto.offset.reset' was supplied but isn't a known config.\n"
     ]
    },
    {
     "data": {
      "text/plain": [
       "182"
      ]
     },
     "execution_count": 163,
     "metadata": {},
     "output_type": "execute_result"
    }
   ],
   "source": [
    "df_parsed.count()"
   ]
  },
  {
   "cell_type": "code",
   "execution_count": 166,
   "metadata": {},
   "outputs": [
    {
     "name": "stderr",
     "output_type": "stream",
     "text": [
      "24/11/15 17:48:35 WARN AdminClientConfig: The configuration 'key.deserializer' was supplied but isn't a known config.\n",
      "24/11/15 17:48:35 WARN AdminClientConfig: The configuration 'value.deserializer' was supplied but isn't a known config.\n",
      "24/11/15 17:48:35 WARN AdminClientConfig: The configuration 'enable.auto.commit' was supplied but isn't a known config.\n",
      "24/11/15 17:48:35 WARN AdminClientConfig: The configuration 'max.poll.records' was supplied but isn't a known config.\n",
      "24/11/15 17:48:35 WARN AdminClientConfig: The configuration 'auto.offset.reset' was supplied but isn't a known config.\n",
      "                                                                                \r"
     ]
    },
    {
     "data": {
      "text/plain": [
       "30"
      ]
     },
     "execution_count": 166,
     "metadata": {},
     "output_type": "execute_result"
    }
   ],
   "source": [
    "df_parsed.filter(F.col(\"id\").isNotNull()).count()"
   ]
  },
  {
   "cell_type": "code",
   "execution_count": 54,
   "metadata": {},
   "outputs": [
    {
     "name": "stderr",
     "output_type": "stream",
     "text": [
      "24/11/15 13:54:22 WARN AdminClientConfig: The configuration 'key.deserializer' was supplied but isn't a known config.\n",
      "24/11/15 13:54:22 WARN AdminClientConfig: The configuration 'value.deserializer' was supplied but isn't a known config.\n",
      "24/11/15 13:54:22 WARN AdminClientConfig: The configuration 'enable.auto.commit' was supplied but isn't a known config.\n",
      "24/11/15 13:54:22 WARN AdminClientConfig: The configuration 'max.poll.records' was supplied but isn't a known config.\n",
      "24/11/15 13:54:22 WARN AdminClientConfig: The configuration 'auto.offset.reset' was supplied but isn't a known config.\n"
     ]
    },
    {
     "name": "stdout",
     "output_type": "stream",
     "text": [
      "+-------------------------------------------------------------------------------------------------------------------------------------------------------------------------------------------------------------------------------------------------------------------------------------------------------------------------------------------------------------------------------------------------------------------------------------------------------------------------------------------------------------------------------------------------------------------------------------------------------------------------------------------------------------------------------------------------------------------------------------------------------------------------------------------------------------------------------------------------------------------------------------------------------------------------------------------------------------------------------------------------------------------------------------------------------------------------------------------------------------------------------------------------------------------------------------------------------------------------------------------------------------------------------------------------------------------------------------------------------------------------------------------------------------------------------------------------------------------------------------------------------------------------------------------------------------------------------------------------------------------------------------------------------------------------------------------------------------------------------------------------------------------------------------------------------------------------------------------------------------------------------------------------------------------------------------------------------------------------------------------------------------------------------------------------------------------------------------------------------------------+\n",
      "|value_clean                                                                                                                                                                                                                                                                                                                                                                                                                                                                                                                                                                                                                                                                                                                                                                                                                                                                                                                                                                                                                                                                                                                                                                                                                                                                                                                                                                                                                                                                                                                                                                                                                                                                                                                                                                                                                                                                                                                                                                                                                                                                                                        |\n",
      "+-------------------------------------------------------------------------------------------------------------------------------------------------------------------------------------------------------------------------------------------------------------------------------------------------------------------------------------------------------------------------------------------------------------------------------------------------------------------------------------------------------------------------------------------------------------------------------------------------------------------------------------------------------------------------------------------------------------------------------------------------------------------------------------------------------------------------------------------------------------------------------------------------------------------------------------------------------------------------------------------------------------------------------------------------------------------------------------------------------------------------------------------------------------------------------------------------------------------------------------------------------------------------------------------------------------------------------------------------------------------------------------------------------------------------------------------------------------------------------------------------------------------------------------------------------------------------------------------------------------------------------------------------------------------------------------------------------------------------------------------------------------------------------------------------------------------------------------------------------------------------------------------------------------------------------------------------------------------------------------------------------------------------------------------------------------------------------------------------------------------+\n",
      "|{\"$schema\":\"/mediawiki/recentchange/1.0.0\",\"meta\":{\"uri\":\"https://commons.wikimedia.org/wiki/File:Florida_Tropical_House_NPS.jpg\",\"request_id\":\"0c4303be-f77f-4c51-8691-9ff1571c6298\",\"id\":\"56cf14b8-fb3e-4c2d-b96b-25e88060b96d\",\"dt\":\"2024-11-15T07:12:58Z\",\"domain\":\"commons.wikimedia.org\",\"stream\":\"mediawiki.recentchange\",\"topic\":\"codfw.mediawiki.recentchange\",\"partition\":0,\"offset\":1249027121},\"id\":2655168092,\"type\":\"edit\",\"namespace\":6,\"title\":\"File:Florida Tropical House NPS.jpg\",\"title_url\":\"https://commons.wikimedia.org/wiki/File:Florida_Tropical_House_NPS.jpg\",\"comment\":\"/* wbsetclaim-update:2||1|2 */ [[d:Special:EntityPage/P6216]]: [[d:Special:EntityPage/Q19652]], updating based on [[Template:PD-USGov-NPS]]\",\"timestamp\":1731654778,\"user\":\"BotMultichillT\",\"bot\":true,\"notify_url\":\"https://commons.wikimedia.org/w/index.php?diff=957288243&oldid=709348572&rcid=2655168092\",\"minor\":false,\"patrolled\":true,\"length\":{\"old\":4685,\"new\":5358},\"revision\":{\"old\":709348572,\"new\":957288243},\"server_url\":\"https://commons.wikimedia.org\",\"server_name\":\"commons.wikimedia.org\",\"server_script_path\":\"/w\",\"wiki\":\"commonswiki\",\"parsedcomment\":\"u200e<span dir=\"auto\"><span class=\"autocomment\">Changed claim: </span></span> <a href=\"https://www.wikidata.org/wiki/Special:EntityPage/P6216\" class=\"extiw\" title=\"u200ecopyright statusu200e | u200ecopyright status for intellectual creations like works of art, publications, software, etc.u200e\"><span class=\"wb-itemlink\"><span class=\"wb-itemlink-label\" lang=\"en\" dir=\"ltr\">copyright status</span> <span class=\"wb-itemlink-id\">(P6216)</span></span></a>: <a href=\"https://www.wikidata.org/wiki/Special:EntityPage/Q19652\" class=\"extiw\" title=\"u200epublic domainu200e | u200eno exclusive intellectual property rights applyu200e\"><span class=\"wb-itemlink\"><span class=\"wb-itemlink-label\" lang=\"en\" dir=\"ltr\">public domain</span> <span class=\"wb-itemlink-id\">(Q19652)</span></span></a>, updating based on <a href=\"/wiki/Template:PD-USGov-NPS\" title=\"Template:PD-USGov-NPS\">Template:PD-USGov-NPS</a>\"}|\n",
      "|{\"$schema\":\"/mediawiki/recentchange/1.0.0\",\"meta\":{\"uri\":\"https://commons.wikimedia.org/wiki/File:2018_04_29-23.58.37.230-CDT.jpg\",\"request_id\":\"44c61c3e-2689-41a9-9b6f-ca6e7eb35579\",\"id\":\"4adf3401-ac7b-46a2-80bc-56872bf7f579\",\"dt\":\"2024-11-15T07:12:58Z\",\"domain\":\"commons.wikimedia.org\",\"stream\":\"mediawiki.recentchange\",\"topic\":\"codfw.mediawiki.recentchange\",\"partition\":0,\"offset\":1249027122},\"id\":2655168093,\"type\":\"edit\",\"namespace\":6,\"title\":\"File:2018 04 29-23.58.37.230-CDT.jpg\",\"title_url\":\"https://commons.wikimedia.org/wiki/File:2018_04_29-23.58.37.230-CDT.jpg\",\"comment\":\"/* wbeditentity-update:0| */ automatically adding [[Commons:Structured data|structured data]] based on file information\",\"timestamp\":1731654778,\"user\":\"SchlurcherBot\",\"bot\":true,\"notify_url\":\"https://commons.wikimedia.org/w/index.php?diff=957288245&oldid=847969626&rcid=2655168093\",\"minor\":false,\"patrolled\":true,\"length\":{\"old\":3329,\"new\":3759},\"revision\":{\"old\":847969626,\"new\":957288245},\"server_url\":\"https://commons.wikimedia.org\",\"server_name\":\"commons.wikimedia.org\",\"server_script_path\":\"/w\",\"wiki\":\"commonswiki\",\"parsedcomment\":\"u200e<span dir=\"auto\"><span class=\"autocomment\">Changed an entity: </span></span> automatically adding <a href=\"/wiki/Commons:Structured_data\" title=\"Commons:Structured data\">structured data</a> based on file information\"}                                                                                                                                                                                                                                                                                                                                                                                                                                                                                                                                                                                                                                                                                                                   |\n",
      "|{\"$schema\":\"/mediawiki/recentchange/1.0.0\",\"meta\":{\"uri\":\"https://commons.wikimedia.org/wiki/Category:Cricket_grounds_in_England\",\"request_id\":\"7d26e901-8b10-41ba-bb9e-96656c0fc83f\",\"id\":\"b08c45e1-1626-4247-b266-85d8dc95e042\",\"dt\":\"2024-11-15T07:12:58Z\",\"domain\":\"commons.wikimedia.org\",\"stream\":\"mediawiki.recentchange\",\"topic\":\"codfw.mediawiki.recentchange\",\"partition\":0,\"offset\":1249027123},\"id\":2655168094,\"type\":\"categorize\",\"namespace\":14,\"title\":\"Category:Cricket grounds in England\",\"title_url\":\"https://commons.wikimedia.org/wiki/Category:Cricket_grounds_in_England\",\"comment\":\"[[:File:Wycombe House Cricket.jpg]] added to category\",\"timestamp\":1731654778,\"user\":\"MrKeefeJohn\",\"bot\":false,\"notify_url\":\"https://commons.wikimedia.org/w/index.php?diff=957288242&oldid=957288158&rcid=2655168094\",\"server_url\":\"https://commons.wikimedia.org\",\"server_name\":\"commons.wikimedia.org\",\"server_script_path\":\"/w\",\"wiki\":\"commonswiki\",\"parsedcomment\":\"<a href=\"/wiki/File:Wycombe_House_Cricket.jpg\" title=\"File:Wycombe House Cricket.jpg\">File:Wycombe House Cricket.jpg</a> added to category\"}                                                                                                                                                                                                                                                                                                                                                                                                                                                                                                                                                                                                                                                                                                                                                                                                                                                                                                                                                                                 |\n",
      "|{\"$schema\":\"/mediawiki/recentchange/1.0.0\",\"meta\":{\"uri\":\"https://commons.wikimedia.org/wiki/Category:Cricket_grounds_in_Somerset\",\"request_id\":\"7d26e901-8b10-41ba-bb9e-96656c0fc83f\",\"id\":\"59016de0-359c-4dfa-bf03-5427c9f02413\",\"dt\":\"2024-11-15T07:12:58Z\",\"domain\":\"commons.wikimedia.org\",\"stream\":\"mediawiki.recentchange\",\"topic\":\"codfw.mediawiki.recentchange\",\"partition\":0,\"offset\":1249027124},\"id\":2655168095,\"type\":\"categorize\",\"namespace\":14,\"title\":\"Category:Cricket grounds in Somerset\",\"title_url\":\"https://commons.wikimedia.org/wiki/Category:Cricket_grounds_in_Somerset\",\"comment\":\"[[:File:Wycombe House Cricket.jpg]] removed from category\",\"timestamp\":1731654778,\"user\":\"MrKeefeJohn\",\"bot\":false,\"notify_url\":\"https://commons.wikimedia.org/w/index.php?diff=957288242&oldid=957288158&rcid=2655168095\",\"server_url\":\"https://commons.wikimedia.org\",\"server_name\":\"commons.wikimedia.org\",\"server_script_path\":\"/w\",\"wiki\":\"commonswiki\",\"parsedcomment\":\"<a href=\"/wiki/File:Wycombe_House_Cricket.jpg\" title=\"File:Wycombe House Cricket.jpg\">File:Wycombe House Cricket.jpg</a> removed from category\"}                                                                                                                                                                                                                                                                                                                                                                                                                                                                                                                                                                                                                                                                                                                                                                                                                                                                                                                                                                      |\n",
      "|{\"$schema\":\"/mediawiki/recentchange/1.0.0\",\"meta\":{\"uri\":\"https://en.wikipedia.org/wiki/List_of_Reformed_Baptists\",\"request_id\":\"36c67c2a-a1cb-4f30-b0ab-bad1c1d2d818\",\"id\":\"4b31cb53-7412-4d26-9e39-0ffdea69fb94\",\"dt\":\"2024-11-15T07:12:58Z\",\"domain\":\"en.wikipedia.org\",\"stream\":\"mediawiki.recentchange\",\"topic\":\"codfw.mediawiki.recentchange\",\"partition\":0,\"offset\":1249027125},\"id\":1841201762,\"type\":\"edit\",\"namespace\":0,\"title\":\"List of Reformed Baptists\",\"title_url\":\"https://en.wikipedia.org/wiki/List_of_Reformed_Baptists\",\"comment\":\"/* 21st Century */\",\"timestamp\":1731654778,\"user\":\"DoulosBen\",\"bot\":false,\"notify_url\":\"https://en.wikipedia.org/w/index.php?diff=1257504479&oldid=1250788022\",\"minor\":false,\"length\":{\"old\":7669,\"new\":7678},\"revision\":{\"old\":1250788022,\"new\":1257504479},\"server_url\":\"https://en.wikipedia.org\",\"server_name\":\"en.wikipedia.org\",\"server_script_path\":\"/w\",\"wiki\":\"enwiki\",\"parsedcomment\":\"<span class=\"autocomment\"><a href=\"/wiki/List_of_Reformed_Baptists#21st_Century\" title=\"List of Reformed Baptists\">u2192<bdi dir=\"ltr\">21st Century</bdi></a></span>\"}                                                                                                                                                                                                                                                                                                                                                                                                                                                                                                                                                                                                                                                                                                                                                                                                                                                                                                                                                                                    |\n",
      "|{\"$schema\":\"/mediawiki/recentchange/1.0.0\",\"meta\":{\"uri\":\"https://uk.wikipedia.org/wiki/%D0%9C%D0%B5%D0%B4%D0%BE%D0%BF%D1%96%D0%B9%D0%BD%D0%B8%D0%BA_%D1%82%D0%B0%D1%81%D0%BC%D0%B0%D0%BD%D1%96%D0%B9%D1%81%D1%8C%D0%BA%D0%B8%D0%B9\",\"request_id\":\"80da9e4e-b9b0-49d5-ae2e-8f496bb8017c\",\"id\":\"b25e523b-e89f-4458-aba9-3a76bb662708\",\"dt\":\"2024-11-15T07:12:56Z\",\"domain\":\"uk.wikipedia.org\",\"stream\":\"mediawiki.recentchange\",\"topic\":\"codfw.mediawiki.recentchange\",\"partition\":0,\"offset\":1249027126},\"id\":157173755,\"type\":\"edit\",\"namespace\":0,\"title\":\"u041cu0435u0434u043eu043fu0456u0439u043du0438u043a u0442u0430u0441u043cu0430u043du0456u0439u0441u044cu043au0438u0439\",\"title_url\":\"https://uk.wikipedia.org/wiki/%D0%9C%D0%B5%D0%B4%D0%BE%D0%BF%D1%96%D0%B9%D0%BD%D0%B8%D0%BA_%D1%82%D0%B0%D1%81%D0%BC%D0%B0%D0%BD%D1%96%D0%B9%D1%81%D1%8C%D0%BA%D0%B8%D0%B9\",\"comment\":\"\",\"timestamp\":1731654776,\"user\":\"Olbiopontik\",\"bot\":false,\"notify_url\":\"https://uk.wikipedia.org/w/index.php?diff=43897606&oldid=43897558\",\"minor\":false,\"length\":{\"old\":4147,\"new\":4204},\"revision\":{\"old\":43897558,\"new\":43897606},\"server_url\":\"https://uk.wikipedia.org\",\"server_name\":\"uk.wikipedia.org\",\"server_script_path\":\"/w\",\"wiki\":\"ukwiki\",\"parsedcomment\":\"\"}                                                                                                                                                                                                                                                                                                                                                                                                                                                                                                                                                                                                                                                                                                                                                                                                                                                  |\n",
      "|{\"$schema\":\"/mediawiki/recentchange/1.0.0\",\"meta\":{\"uri\":\"https://commons.wikimedia.org/wiki/File:%D0%90%D0%BB%D0%B5%D0%BA%D1%81%D0%B0%D0%BD%D0%B4%D0%B0%D1%80_%D0%88%D0%BE%D0%B2%D0%B0%D0%BD%D1%87%D0%B5%D0%B2.jpg\",\"request_id\":\"1d23b574-1899-4ad5-92b1-2ecb27448049\",\"id\":\"f36ab111-14fb-48ca-af49-213a24bc8497\",\"dt\":\"2024-11-15T07:12:59Z\",\"domain\":\"commons.wikimedia.org\",\"stream\":\"mediawiki.recentchange\",\"topic\":\"codfw.mediawiki.recentchange\",\"partition\":0,\"offset\":1249027127},\"id\":2655168096,\"type\":\"edit\",\"namespace\":6,\"title\":\"File:u0410u043bu0435u043au0441u0430u043du0434u0430u0440 u0408u043eu0432u0430u043du0447u0435u0432.jpg\",\"title_url\":\"https://commons.wikimedia.org/wiki/File:%D0%90%D0%BB%D0%B5%D0%BA%D1%81%D0%B0%D0%BD%D0%B4%D0%B0%D1%80_%D0%88%D0%BE%D0%B2%D0%B0%D0%BD%D1%87%D0%B5%D0%B2.jpg\",\"comment\":\"/* wbeditentity-update:0| */ automatically modify [[Commons:Structured data|structured data]] based on file information: meta\",\"timestamp\":1731654779,\"user\":\"SchlurcherBot\",\"bot\":true,\"notify_url\":\"https://commons.wikimedia.org/w/index.php?diff=957288246&oldid=957148989&rcid=2655168096\",\"minor\":false,\"patrolled\":true,\"length\":{\"old\":3495,\"new\":5900},\"revision\":{\"old\":957148989,\"new\":957288246},\"server_url\":\"https://commons.wikimedia.org\",\"server_name\":\"commons.wikimedia.org\",\"server_script_path\":\"/w\",\"wiki\":\"commonswiki\",\"parsedcomment\":\"u200e<span dir=\"auto\"><span class=\"autocomment\">Ein Objekt geu00e4ndert: </span></span> automatically modify <a href=\"/wiki/Commons:Structured_data\" title=\"Commons:Structured data\">structured data</a> based on file information: meta\"}                                                                                                                                                                                                                                                                                                                                                                                                                                                             |\n",
      "|{\"$schema\":\"/mediawiki/recentchange/1.0.0\",\"meta\":{\"uri\":\"https://fr.wiktionary.org/wiki/Mod%C3%A8le:anagrammes/it/aacegiilmrst\",\"request_id\":\"a3f414bd-cbca-463b-87e6-6c839e571fb6\",\"id\":\"2918d28b-5f93-499a-a3f6-b50a6e2dbebf\",\"dt\":\"2024-11-15T07:12:59Z\",\"domain\":\"fr.wiktionary.org\",\"stream\":\"mediawiki.recentchange\",\"topic\":\"codfw.mediawiki.recentchange\",\"partition\":0,\"offset\":1249027128},\"id\":56381771,\"type\":\"new\",\"namespace\":10,\"title\":\"Modu00e8le:anagrammes/it/aacegiilmrst\",\"title_url\":\"https://fr.wiktionary.org/wiki/Mod%C3%A8le:anagrammes/it/aacegiilmrst\",\"comment\":\"gest. anagrammes\",\"timestamp\":1731654779,\"user\":\"DE8AH\",\"bot\":false,\"notify_url\":\"https://fr.wiktionary.org/w/index.php?oldid=36409771&rcid=56381771\",\"minor\":false,\"patrolled\":true,\"length\":{\"new\":74},\"revision\":{\"new\":36409771},\"server_url\":\"https://fr.wiktionary.org\",\"server_name\":\"fr.wiktionary.org\",\"server_script_path\":\"/w\",\"wiki\":\"frwiktionary\",\"parsedcomment\":\"gest. anagrammes\"}                                                                                                                                                                                                                                                                                                                                                                                                                                                                                                                                                                                                                                                                                                                                                                                                                                                                                                                                                                                                                                                                                                                 |\n",
      "|{\"$schema\":\"/mediawiki/recentchange/1.0.0\",\"meta\":{\"uri\":\"https://en.wikipedia.org/wiki/Category:CS1_errors:_invisible_characters\",\"request_id\":\"4d27c91d-c02a-41d0-9145-fbbe99a4aa17\",\"id\":\"3f70ebf2-ffc1-4716-a297-89e3143aad6c\",\"dt\":\"2024-11-15T07:12:52Z\",\"domain\":\"en.wikipedia.org\",\"stream\":\"mediawiki.recentchange\",\"topic\":\"codfw.mediawiki.recentchange\",\"partition\":0,\"offset\":1249027129},\"id\":1841201763,\"type\":\"categorize\",\"namespace\":14,\"title\":\"Category:CS1 errors: invisible characters\",\"title_url\":\"https://en.wikipedia.org/wiki/Category:CS1_errors:_invisible_characters\",\"comment\":\"[[:Iraivi]] added to category, [[Special:WhatLinksHere/Iraivi|this page is included within other pages]]\",\"timestamp\":1731654772,\"user\":\"Kailash29792\",\"bot\":false,\"notify_url\":\"https://en.wikipedia.org/w/index.php?diff=1257504473&oldid=1257502566\",\"server_url\":\"https://en.wikipedia.org\",\"server_name\":\"en.wikipedia.org\",\"server_script_path\":\"/w\",\"wiki\":\"enwiki\",\"parsedcomment\":\"<a href=\"/wiki/Iraivi\" title=\"Iraivi\">Iraivi</a> added to category, <a href=\"/wiki/Special:WhatLinksHere/Iraivi\" title=\"Special:WhatLinksHere/Iraivi\">this page is included within other pages</a>\"}                                                                                                                                                                                                                                                                                                                                                                                                                                                                                                                                                                                                                                                                                                                                                                                                                                                                                                    |\n",
      "|{\"$schema\":\"/mediawiki/recentchange/1.0.0\",\"meta\":{\"uri\":\"https://en.wikipedia.org/wiki/Category:Articles_with_dead_external_links_from_March_2023\",\"request_id\":\"4d27c91d-c02a-41d0-9145-fbbe99a4aa17\",\"id\":\"e568ed2b-7474-4fcb-860c-62e7961c7999\",\"dt\":\"2024-11-15T07:12:52Z\",\"domain\":\"en.wikipedia.org\",\"stream\":\"mediawiki.recentchange\",\"topic\":\"codfw.mediawiki.recentchange\",\"partition\":0,\"offset\":1249027130},\"id\":1841201764,\"type\":\"categorize\",\"namespace\":14,\"title\":\"Category:Articles with dead external links from March 2023\",\"title_url\":\"https://en.wikipedia.org/wiki/Category:Articles_with_dead_external_links_from_March_2023\",\"comment\":\"[[:Iraivi]] removed from category, [[Special:WhatLinksHere/Iraivi|this page is included within other pages]]\",\"timestamp\":1731654772,\"user\":\"Kailash29792\",\"bot\":false,\"notify_url\":\"https://en.wikipedia.org/w/index.php?diff=1257504473&oldid=1257502566\",\"server_url\":\"https://en.wikipedia.org\",\"server_name\":\"en.wikipedia.org\",\"server_script_path\":\"/w\",\"wiki\":\"enwiki\",\"parsedcomment\":\"<a href=\"/wiki/Iraivi\" title=\"Iraivi\">Iraivi</a> removed from category, <a href=\"/wiki/Special:WhatLinksHere/Iraivi\" title=\"Special:WhatLinksHere/Iraivi\">this page is included within other pages</a>\"}                                                                                                                                                                                                                                                                                                                                                                                                                                                                                                                                                                                                                                                                                                                                                                                                                                         |\n",
      "|{\"$schema\":\"/mediawiki/recentchange/1.0.0\",\"meta\":{\"uri\":\"https://commons.wikimedia.org/wiki/File:Eas_Ban,_Cromartyshire_-_geograph-1891151.jpg\",\"request_id\":\"f85a2bf2-f9ab-43b3-a3a4-d74e3bd70711\",\"id\":\"fc3a04f8-21ad-4c1a-8fe4-031d8acfb258\",\"dt\":\"2024-11-15T07:12:59Z\",\"domain\":\"commons.wikimedia.org\",\"stream\":\"mediawiki.recentchange\",\"topic\":\"codfw.mediawiki.recentchange\",\"partition\":0,\"offset\":1249027131},\"id\":2655168097,\"type\":\"edit\",\"namespace\":6,\"title\":\"File:Eas Ban, Cromartyshire - geograph-1891151.jpg\",\"title_url\":\"https://commons.wikimedia.org/wiki/File:Eas_Ban,_Cromartyshire_-_geograph-1891151.jpg\",\"comment\":\"/* wbeditentity-update-languages-and-other-short:0||en */ Adding structured data from Geograph 1891151: label, license, depicts & location\",\"timestamp\":1731654779,\"user\":\"BotMultichillT\",\"bot\":true,\"notify_url\":\"https://commons.wikimedia.org/w/index.php?diff=957288247&oldid=943627858&rcid=2655168097\",\"minor\":false,\"patrolled\":true,\"length\":{\"old\":9382,\"new\":11297},\"revision\":{\"old\":943627858,\"new\":957288247},\"server_url\":\"https://commons.wikimedia.org\",\"server_name\":\"commons.wikimedia.org\",\"server_script_path\":\"/w\",\"wiki\":\"commonswiki\",\"parsedcomment\":\"u200e<span dir=\"auto\"><span class=\"autocomment\">Changed label, description and/or aliases in en, and other parts: </span></span> Adding structured data from Geograph 1891151: label, license, depicts &amp; location\"}                                                                                                                                                                                                                                                                                                                                                                                                                                                                                                                                                                                                                                                           |\n",
      "|{\"$schema\":\"/mediawiki/recentchange/1.0.0\",\"meta\":{\"uri\":\"https://commons.wikimedia.org/wiki/File:2014-10-20_13_26_36_View_south_along_Goose_Creek_Road_where_it_crosses_from_Cassia_County,_Idaho_into_Box_Elder_County,_Utah.jpg\",\"request_id\":\"c2937763-84e5-449b-bd0b-ba4147066d08\",\"id\":\"374afba3-1d0c-41fd-a3d3-5d6f9066b14b\",\"dt\":\"2024-11-15T07:12:59Z\",\"domain\":\"commons.wikimedia.org\",\"stream\":\"mediawiki.recentchange\",\"topic\":\"codfw.mediawiki.recentchange\",\"partition\":0,\"offset\":1249027132},\"id\":2655168098,\"type\":\"edit\",\"namespace\":6,\"title\":\"File:2014-10-20 13 26 36 View south along Goose Creek Road where it crosses from Cassia County, Idaho into Box Elder County, Utah.jpg\",\"title_url\":\"https://commons.wikimedia.org/wiki/File:2014-10-20_13_26_36_View_south_along_Goose_Creek_Road_where_it_crosses_from_Cassia_County,_Idaho_into_Box_Elder_County,_Utah.jpg\",\"comment\":\"/* wbeditentity-update:0| */ automatically adding [[Commons:Structured data|structured data]] based on file information\",\"timestamp\":1731654779,\"user\":\"SchlurcherBot\",\"bot\":true,\"notify_url\":\"https://commons.wikimedia.org/w/index.php?diff=957288248&oldid=911494172&rcid=2655168098\",\"minor\":false,\"patrolled\":true,\"length\":{\"old\":7767,\"new\":9828},\"revision\":{\"old\":911494172,\"new\":957288248},\"server_url\":\"https://commons.wikimedia.org\",\"server_name\":\"commons.wikimedia.org\",\"server_script_path\":\"/w\",\"wiki\":\"commonswiki\",\"parsedcomment\":\"u200e<span dir=\"auto\"><span class=\"autocomment\">Changed an entity: </span></span> automatically adding <a href=\"/wiki/Commons:Structured_data\" title=\"Commons:Structured data\">structured data</a> based on file information\"}                                                                                                                                                                                                                                                                                                                                                                                                                |\n",
      "|{\"$schema\":\"/mediawiki/recentchange/1.0.0\",\"meta\":{\"uri\":\"https://cy.wikipedia.org/wiki/Categori:Pages_using_the_JsonConfig_extension\",\"request_id\":\"ebe35898-50b0-4712-8c95-e92858f8e431\",\"id\":\"e8fb6e43-696f-49d9-b214-4f781fb60374\",\"dt\":\"2024-11-15T07:12:55Z\",\"domain\":\"cy.wikipedia.org\",\"stream\":\"mediawiki.recentchange\",\"topic\":\"codfw.mediawiki.recentchange\",\"partition\":0,\"offset\":1249027133},\"id\":30695223,\"type\":\"categorize\",\"namespace\":14,\"title\":\"Categori:Pages using the JsonConfig extension\",\"title_url\":\"https://cy.wikipedia.org/wiki/Categori:Pages_using_the_JsonConfig_extension\",\"comment\":\"Symudwyd [[:The Great Waldo Pepper]] o'r categori\",\"timestamp\":1731654775,\"user\":\"ListeriaBot\",\"bot\":true,\"notify_url\":\"https://cy.wikipedia.org/w/index.php?diff=13293140&oldid=13278516\",\"server_url\":\"https://cy.wikipedia.org\",\"server_name\":\"cy.wikipedia.org\",\"server_script_path\":\"/w\",\"wiki\":\"cywiki\",\"parsedcomment\":\"Symudwyd <a href=\"/wiki/The_Great_Waldo_Pepper\" title=\"The Great Waldo Pepper\">The Great Waldo Pepper</a> o&#039;r categori\"}                                                                                                                                                                                                                                                                                                                                                                                                                                                                                                                                                                                                                                                                                                                                                                                                                                                                                                                                                                                                                              |\n",
      "|{\"$schema\":\"/mediawiki/recentchange/1.0.0\",\"meta\":{\"uri\":\"https://www.wikidata.org/wiki/Q93279233\",\"request_id\":\"063cba39-f25e-4cdd-a2b8-104828e2a4d3\",\"id\":\"1cde7878-527e-4654-9fd2-1a78cccddb5b\",\"dt\":\"2024-11-15T07:12:57Z\",\"domain\":\"www.wikidata.org\",\"stream\":\"mediawiki.recentchange\",\"topic\":\"codfw.mediawiki.recentchange\",\"partition\":0,\"offset\":1249027134},\"id\":2342955158,\"type\":\"edit\",\"namespace\":0,\"title\":\"Q93279233\",\"title_url\":\"https://www.wikidata.org/wiki/Q93279233\",\"comment\":\"/* wbeditentity-update-languages-and-other:0||57 */ mv labels and aliases matching [[Property:P528]] or [[Property:P3083]] to mul\",\"timestamp\":1731654777,\"user\":\"Twofivesixbot\",\"bot\":true,\"notify_url\":\"https://www.wikidata.org/w/index.php?diff=2274944896&oldid=2183022139&rcid=2342955158\",\"minor\":false,\"patrolled\":true,\"length\":{\"old\":51866,\"new\":48120},\"revision\":{\"old\":2183022139,\"new\":2274944896},\"server_url\":\"https://www.wikidata.org\",\"server_name\":\"www.wikidata.org\",\"server_script_path\":\"/w\",\"wiki\":\"wikidatawiki\",\"parsedcomment\":\"u200e<span dir=\"auto\"><span class=\"autocomment\">Changed label, description and/or aliases in 57 languages, and other parts: </span></span> mv labels and aliases matching <a href=\"/wiki/Property:P528\" title=\"u200ecatalog codeu200e | u200ecatalog name of an object, use with qualifier P972u200e\"><span class=\"wb-itemlink\"><span class=\"wb-itemlink-label\" lang=\"en\" dir=\"ltr\">catalog code</span> <span class=\"wb-itemlink-id\">(P528)</span></span></a> or <a href=\"/wiki/Property:P3083\" title=\"u200eSIMBAD IDu200e | u200eidentifier for an astronomical object, in the University of Strasbourg&#039;s SIMBAD databaseu200e\"><span class=\"wb-itemlink\"><span class=\"wb-itemlink-label\" lang=\"en\" dir=\"ltr\">SIMBAD ID</span> <span class=\"wb-itemlink-id\">(P3083)</span></span></a> to mul\"}                                                                                                                                                                                                                                           |\n",
      "|{\"$schema\":\"/mediawiki/recentchange/1.0.0\",\"meta\":{\"uri\":\"https://ar.wikipedia.org/wiki/%D9%88%D9%81%D9%8A%D8%A7%D8%AA_2024\",\"request_id\":\"843caf3b-54cc-4139-8e09-02da2b42e240\",\"id\":\"8b46fb94-5cbd-4cf4-b62c-3ae9d985a2cb\",\"dt\":\"2024-11-15T07:12:57Z\",\"domain\":\"ar.wikipedia.org\",\"stream\":\"mediawiki.recentchange\",\"topic\":\"codfw.mediawiki.recentchange\",\"partition\":0,\"offset\":1249027135},\"id\":313596548,\"type\":\"edit\",\"namespace\":0,\"title\":\"u0648u0641u064au0627u062a 2024\",\"title_url\":\"https://ar.wikipedia.org/wiki/%D9%88%D9%81%D9%8A%D8%A7%D8%AA_2024\",\"comment\":\"u0628u0648u062a:u0625u0636u0627u0641u0629 u0648u0635u0644u0629 u0623u0631u0634u064au0641u064au0629.\",\"timestamp\":1731654777,\"user\":\"Mr.Ibrahembot\",\"bot\":true,\"notify_url\":\"https://ar.wikipedia.org/w/index.php?diff=68571603&oldid=68571601\",\"minor\":true,\"length\":{\"old\":26760,\"new\":26917},\"revision\":{\"old\":68571601,\"new\":68571603},\"server_url\":\"https://ar.wikipedia.org\",\"server_name\":\"ar.wikipedia.org\",\"server_script_path\":\"/w\",\"wiki\":\"arwiki\",\"parsedcomment\":\"u0628u0648u062a:u0625u0636u0627u0641u0629 u0648u0635u0644u0629 u0623u0631u0634u064au0641u064au0629.\"}                                                                                                                                                                                                                                                                                                                                                                                                                                                                                                                                                                                                                                                                                                                                                                                                                                                                                                                                                |\n",
      "|{\"$schema\":\"/mediawiki/recentchange/1.0.0\",\"meta\":{\"uri\":\"https://en.wikipedia.org/wiki/User:Krisgabwoosh/Arnaldo_Lijer%C3%B3n_Casanovas\",\"request_id\":\"fff802fe-6e59-4f1f-8737-c3e2504d9816\",\"id\":\"61b393aa-cb08-4b93-b82c-da9240109bd2\",\"dt\":\"2024-11-15T07:12:57Z\",\"domain\":\"en.wikipedia.org\",\"stream\":\"mediawiki.recentchange\",\"topic\":\"codfw.mediawiki.recentchange\",\"partition\":0,\"offset\":1249027136},\"id\":1841201765,\"type\":\"edit\",\"namespace\":2,\"title\":\"User:Krisgabwoosh/Arnaldo Lijeru00f3n Casanovas\",\"title_url\":\"https://en.wikipedia.org/wiki/User:Krisgabwoosh/Arnaldo_Lijer%C3%B3n_Casanovas\",\"comment\":\"/* Selected publications */\",\"timestamp\":1731654777,\"user\":\"Krisgabwoosh\",\"bot\":false,\"notify_url\":\"https://en.wikipedia.org/w/index.php?diff=1257504477&oldid=1257504414\",\"minor\":false,\"length\":{\"old\":16237,\"new\":16231},\"revision\":{\"old\":1257504414,\"new\":1257504477},\"server_url\":\"https://en.wikipedia.org\",\"server_name\":\"en.wikipedia.org\",\"server_script_path\":\"/w\",\"wiki\":\"enwiki\",\"parsedcomment\":\"<span class=\"autocomment\"><a href=\"/wiki/User:Krisgabwoosh/Arnaldo_Lijer%C3%B3n_Casanovas#Selected_publications\" title=\"User:Krisgabwoosh/Arnaldo Lijeru00f3n Casanovas\">u2192<bdi dir=\"ltr\">Selected publications</bdi></a></span>\"}                                                                                                                                                                                                                                                                                                                                                                                                                                                                                                                                                                                                                                                                                                                                                                                                                                   |\n",
      "|{\"$schema\":\"/mediawiki/recentchange/1.0.0\",\"meta\":{\"uri\":\"https://www.wikidata.org/wiki/Q85700833\",\"request_id\":\"c9cc6cd7-57ee-4a43-acdd-c7bbd360d3af\",\"id\":\"3694d58f-3af8-4bc9-ab2b-e392cc95a25a\",\"dt\":\"2024-11-15T07:12:59Z\",\"domain\":\"www.wikidata.org\",\"stream\":\"mediawiki.recentchange\",\"topic\":\"codfw.mediawiki.recentchange\",\"partition\":0,\"offset\":1249027137},\"id\":2342955159,\"type\":\"edit\",\"namespace\":0,\"title\":\"Q85700833\",\"title_url\":\"https://www.wikidata.org/wiki/Q85700833\",\"comment\":\"/* wbeditentity-update-languages-and-other-short:0||fr, io, nl, dv, de, ext, en, vo, ia, la, it, ast, pt-br, eu, ar, ga, gl, ie, es, pt, ca, eo, mul, pl, oc, an */ mv labels and aliases matching [[Property:P528]] or [[Property:P3083]] to mul\",\"timestamp\":1731654779,\"user\":\"Twofivesixbot\",\"bot\":true,\"notify_url\":\"https://www.wikidata.org/w/index.php?diff=2274944903&oldid=2127479590&rcid=2342955159\",\"minor\":false,\"patrolled\":true,\"length\":{\"old\":36992,\"new\":35375},\"revision\":{\"old\":2127479590,\"new\":2274944903},\"server_url\":\"https://www.wikidata.org\",\"server_name\":\"www.wikidata.org\",\"server_script_path\":\"/w\",\"wiki\":\"wikidatawiki\",\"parsedcomment\":\"u200e<span dir=\"auto\"><span class=\"autocomment\">Changed label, description and/or aliases in fr, io, nl, dv, de, ext, en, vo, ia, la, it, ast, pt-br, eu, ar, ga, gl, ie, es, pt, ca, eo, mul, pl, oc, an, and other parts: </span></span> mv labels and aliases matching <a href=\"/wiki/Property:P528\" title=\"u200ecatalog codeu200e | u200ecatalog name of an object, use with qualifier P972u200e\"><span class=\"wb-itemlink\"><span class=\"wb-itemlink-label\" lang=\"en\" dir=\"ltr\">catalog code</span> <span class=\"wb-itemlink-id\">(P528)</span></span></a> or <a href=\"/wiki/Property:P3083\" title=\"u200eSIMBAD IDu200e | u200eidentifier for an astronomical object, in the University of Strasbourg&#039;s SIMBAD databaseu200e\"><span class=\"wb-itemlink\"><span class=\"wb-itemlink-label\" lang=\"en\" dir=\"ltr\">SIMBAD ID</span> <span class=\"wb-itemlink-id\">(P3083)</span></span></a> to mul\"}                           |\n",
      "|{\"$schema\":\"/mediawiki/recentchange/1.0.0\",\"meta\":{\"uri\":\"https://ru.wikipedia.org/wiki/%D0%9A%D0%B0%D1%82%D0%B5%D0%B3%D0%BE%D1%80%D0%B8%D1%8F:%D0%A1%D1%82%D1%80%D0%B0%D0%BD%D0%B8%D1%86%D1%8B,_%D0%B8%D1%81%D0%BF%D0%BE%D0%BB%D1%8C%D0%B7%D1%83%D1%8E%D1%89%D0%B8%D0%B5_%D1%80%D0%B0%D1%81%D1%88%D0%B8%D1%80%D0%B5%D0%BD%D0%B8%D0%B5_JsonConfig\",\"request_id\":\"1a737e03-d8db-4760-a704-a3448bac89a9\",\"id\":\"bd2ea5da-6935-4f7f-baf6-c7505e47df9e\",\"dt\":\"2024-11-15T07:12:55Z\",\"domain\":\"ru.wikipedia.org\",\"stream\":\"mediawiki.recentchange\",\"topic\":\"codfw.mediawiki.recentchange\",\"partition\":0,\"offset\":1249027138},\"id\":497350122,\"type\":\"categorize\",\"namespace\":14,\"title\":\"u041au0430u0442u0435u0433u043eu0440u0438u044f:u0421u0442u0440u0430u043du0438u0446u044b, u0438u0441u043fu043eu043bu044cu0437u0443u044eu0449u0438u0435 u0440u0430u0441u0448u0438u0440u0435u043du0438u0435 JsonConfig\",\"title_url\":\"https://ru.wikipedia.org/wiki/%D0%9A%D0%B0%D1%82%D0%B5%D0%B3%D0%BE%D1%80%D0%B8%D1%8F:%D0%A1%D1%82%D1%80%D0%B0%D0%BD%D0%B8%D1%86%D1%8B,_%D0%B8%D1%81%D0%BF%D0%BE%D0%BB%D1%8C%D0%B7%D1%83%D1%8E%D1%89%D0%B8%D0%B5_%D1%80%D0%B0%D1%81%D1%88%D0%B8%D1%80%D0%B5%D0%BD%D0%B8%D0%B5_JsonConfig\",\"comment\":\"[[:u0419u043eu0448u043au0438u043d u041au043eu0442]] u0443u0431u0440u0430u043du0430 u0438u0437 u043au0430u0442u0435u0433u043eu0440u0438u0438\",\"timestamp\":1731654775,\"user\":\"Elrond1 2eleven\",\"bot\":false,\"notify_url\":\"https://ru.wikipedia.org/w/index.php?diff=141523508&oldid=141496513\",\"server_url\":\"https://ru.wikipedia.org\",\"server_name\":\"ru.wikipedia.org\",\"server_script_path\":\"/w\",\"wiki\":\"ruwiki\",\"parsedcomment\":\"<a href=\"/wiki/%D0%99%D0%BE%D1%88%D0%BA%D0%B8%D0%BD_%D0%9A%D0%BE%D1%82\" class=\"mw-redirect\" title=\"u0419u043eu0448u043au0438u043d u041au043eu0442\">u0419u043eu0448u043au0438u043d u041au043eu0442</a> u0443u0431u0440u0430u043du0430 u0438u0437 u043au0430u0442u0435u0433u043eu0440u0438u0438\"}                                                                                                                                                             |\n",
      "|{\"$schema\":\"/mediawiki/recentchange/1.0.0\",\"meta\":{\"uri\":\"https://ru.wikipedia.org/wiki/%D0%9A%D0%B0%D1%82%D0%B5%D0%B3%D0%BE%D1%80%D0%B8%D1%8F:%D0%92%D0%B8%D0%BA%D0%B8%D0%BF%D0%B5%D0%B4%D0%B8%D1%8F:Cite_web_(%D0%B7%D0%B0%D0%BC%D0%B5%D0%BD%D0%B8%D1%82%D1%8C_webcitation-%D0%B0%D1%80%D1%85%D0%B8%D0%B2:_deadlink_no)\",\"request_id\":\"1a737e03-d8db-4760-a704-a3448bac89a9\",\"id\":\"0e404921-5697-4c15-aebb-0861f2b3a5b0\",\"dt\":\"2024-11-15T07:12:55Z\",\"domain\":\"ru.wikipedia.org\",\"stream\":\"mediawiki.recentchange\",\"topic\":\"codfw.mediawiki.recentchange\",\"partition\":0,\"offset\":1249027139},\"id\":497350124,\"type\":\"categorize\",\"namespace\":14,\"title\":\"u041au0430u0442u0435u0433u043eu0440u0438u044f:u0412u0438u043au0438u043fu0435u0434u0438u044f:Cite web (u0437u0430u043cu0435u043du0438u0442u044c webcitation-u0430u0440u0445u0438u0432: deadlink no)\",\"title_url\":\"https://ru.wikipedia.org/wiki/%D0%9A%D0%B0%D1%82%D0%B5%D0%B3%D0%BE%D1%80%D0%B8%D1%8F:%D0%92%D0%B8%D0%BA%D0%B8%D0%BF%D0%B5%D0%B4%D0%B8%D1%8F:Cite_web_(%D0%B7%D0%B0%D0%BC%D0%B5%D0%BD%D0%B8%D1%82%D1%8C_webcitation-%D0%B0%D1%80%D1%85%D0%B8%D0%B2:_deadlink_no)\",\"comment\":\"[[:u0419u043eu0448u043au0438u043d u041au043eu0442]] u0443u0431u0440u0430u043du0430 u0438u0437 u043au0430u0442u0435u0433u043eu0440u0438u0438\",\"timestamp\":1731654775,\"user\":\"Elrond1 2eleven\",\"bot\":false,\"notify_url\":\"https://ru.wikipedia.org/w/index.php?diff=141523508&oldid=141496513\",\"server_url\":\"https://ru.wikipedia.org\",\"server_name\":\"ru.wikipedia.org\",\"server_script_path\":\"/w\",\"wiki\":\"ruwiki\",\"parsedcomment\":\"<a href=\"/wiki/%D0%99%D0%BE%D1%88%D0%BA%D0%B8%D0%BD_%D0%9A%D0%BE%D1%82\" class=\"mw-redirect\" title=\"u0419u043eu0448u043au0438u043d u041au043eu0442\">u0419u043eu0448u043au0438u043d u041au043eu0442</a> u0443u0431u0440u0430u043du0430 u0438u0437 u043au0430u0442u0435u0433u043eu0440u0438u0438\"}                                                                                                                                                                                                                             |\n",
      "|{\"$schema\":\"/mediawiki/recentchange/1.0.0\",\"meta\":{\"uri\":\"https://ru.wikipedia.org/wiki/%D0%9F%D1%80%D0%BE%D0%B5%D0%BA%D1%82:%D0%A1%D0%BB%D0%BE%D0%B2%D0%BD%D0%B8%D0%BA%D0%B8/%D0%9D%D0%B5%D1%81%D1%83%D1%89%D0%B5%D1%81%D1%82%D0%B2%D1%83%D1%8E%D1%89%D0%B8%D0%B5_%D0%B1%D0%B8%D0%BE%D0%B3%D1%80%D0%B0%D1%84%D0%B8%D1%87%D0%B5%D1%81%D0%BA%D0%B8%D0%B5_%D1%81%D1%82%D0%B0%D1%82%D1%8C%D0%B8_%D0%B8%D0%B7_%D0%91%D0%A0%D0%AD\",\"request_id\":\"fef0cc77-3ae3-4307-b843-93bd59921a91\",\"id\":\"026387fe-6520-4a30-848a-20ab29c14e3c\",\"dt\":\"2024-11-15T07:12:55Z\",\"domain\":\"ru.wikipedia.org\",\"stream\":\"mediawiki.recentchange\",\"topic\":\"codfw.mediawiki.recentchange\",\"partition\":0,\"offset\":1249027140},\"id\":497350123,\"type\":\"edit\",\"namespace\":104,\"title\":\"u041fu0440u043eu0435u043au0442:u0421u043bu043eu0432u043du0438u043au0438/u041du0435u0441u0443u0449u0435u0441u0442u0432u0443u044eu0449u0438u0435 u0431u0438u043eu0433u0440u0430u0444u0438u0447u0435u0441u043au0438u0435 u0441u0442u0430u0442u044cu0438 u0438u0437 u0411u0420u042d\",\"title_url\":\"https://ru.wikipedia.org/wiki/%D0%9F%D1%80%D0%BE%D0%B5%D0%BA%D1%82:%D0%A1%D0%BB%D0%BE%D0%B2%D0%BD%D0%B8%D0%BA%D0%B8/%D0%9D%D0%B5%D1%81%D1%83%D1%89%D0%B5%D1%81%D1%82%D0%B2%D1%83%D1%8E%D1%89%D0%B8%D0%B5_%D0%B1%D0%B8%D0%BE%D0%B3%D1%80%D0%B0%D1%84%D0%B8%D1%87%D0%B5%D1%81%D0%BA%D0%B8%D0%B5_%D1%81%D1%82%D0%B0%D1%82%D1%8C%D0%B8_%D0%B8%D0%B7_%D0%91%D0%A0%D0%AD\",\"comment\":\"\",\"timestamp\":1731654775,\"user\":\"176.77.32.236\",\"bot\":false,\"notify_url\":\"https://ru.wikipedia.org/w/index.php?diff=141523509&oldid=141418193\",\"minor\":false,\"length\":{\"old\":102856,\"new\":102680},\"revision\":{\"old\":141418193,\"new\":141523509},\"server_url\":\"https://ru.wikipedia.org\",\"server_name\":\"ru.wikipedia.org\",\"server_script_path\":\"/w\",\"wiki\":\"ruwiki\",\"parsedcomment\":\"\"}                                                                                                                                                                                                                                                                                         |\n",
      "+-------------------------------------------------------------------------------------------------------------------------------------------------------------------------------------------------------------------------------------------------------------------------------------------------------------------------------------------------------------------------------------------------------------------------------------------------------------------------------------------------------------------------------------------------------------------------------------------------------------------------------------------------------------------------------------------------------------------------------------------------------------------------------------------------------------------------------------------------------------------------------------------------------------------------------------------------------------------------------------------------------------------------------------------------------------------------------------------------------------------------------------------------------------------------------------------------------------------------------------------------------------------------------------------------------------------------------------------------------------------------------------------------------------------------------------------------------------------------------------------------------------------------------------------------------------------------------------------------------------------------------------------------------------------------------------------------------------------------------------------------------------------------------------------------------------------------------------------------------------------------------------------------------------------------------------------------------------------------------------------------------------------------------------------------------------------------------------------------------------------+\n",
      "only showing top 20 rows\n",
      "\n"
     ]
    },
    {
     "name": "stderr",
     "output_type": "stream",
     "text": [
      "                                                                                \r"
     ]
    }
   ],
   "source": [
    "from pyspark.sql import functions as F\n",
    "\n",
    "from pyspark.sql import functions as F\n",
    "\n",
    "# Remove backslashes from the start of key names and values, as well as the quotes at the start and end\n",
    "parsed_data = parsed_data.withColumn(\n",
    "    \"value_clean\",\n",
    "    F.regexp_replace(F.col(\"value_clean\"), r'\\\\', '')\n",
    ")\n",
    "\n",
    "# Also remove double quotes at the beginning and end if not done already\n",
    "parsed_data = parsed_data.withColumn(\n",
    "    \"value_clean\",\n",
    "    F.regexp_replace(F.col(\"value_clean\"), r'^\"|\"$', '')\n",
    ")\n",
    "\n",
    "# Verify the output\n",
    "parsed_data.select(\"value_clean\").show(truncate=False)\n",
    "\n"
   ]
  },
  {
   "cell_type": "code",
   "execution_count": 56,
   "metadata": {},
   "outputs": [
    {
     "name": "stderr",
     "output_type": "stream",
     "text": [
      "24/11/15 13:59:54 WARN AdminClientConfig: The configuration 'key.deserializer' was supplied but isn't a known config.\n",
      "24/11/15 13:59:54 WARN AdminClientConfig: The configuration 'value.deserializer' was supplied but isn't a known config.\n",
      "24/11/15 13:59:54 WARN AdminClientConfig: The configuration 'enable.auto.commit' was supplied but isn't a known config.\n",
      "24/11/15 13:59:54 WARN AdminClientConfig: The configuration 'max.poll.records' was supplied but isn't a known config.\n",
      "24/11/15 13:59:54 WARN AdminClientConfig: The configuration 'auto.offset.reset' was supplied but isn't a known config.\n"
     ]
    },
    {
     "name": "stdout",
     "output_type": "stream",
     "text": [
      "{\"value_clean\":\"\\\"{\\\\\\\"$schema\\\\\\\":\\\\\\\"/mediawiki/recentchange/1.0.0\\\\\\\",\\\\\\\"meta\\\\\\\":{\\\\\\\"uri\\\\\\\":\\\\\\\"https://commons.wikimedia.org/wiki/File:Florida_Tropical_House_NPS.jpg\\\\\\\",\\\\\\\"request_id\\\\\\\":\\\\\\\"0c4303be-f77f-4c51-8691-9ff1571c6298\\\\\\\",\\\\\\\"id\\\\\\\":\\\\\\\"56cf14b8-fb3e-4c2d-b96b-25e88060b96d\\\\\\\",\\\\\\\"dt\\\\\\\":\\\\\\\"2024-11-15T07:12:58Z\\\\\\\",\\\\\\\"domain\\\\\\\":\\\\\\\"commons.wikimedia.org\\\\\\\",\\\\\\\"stream\\\\\\\":\\\\\\\"mediawiki.recentchange\\\\\\\",\\\\\\\"topic\\\\\\\":\\\\\\\"codfw.mediawiki.recentchange\\\\\\\",\\\\\\\"partition\\\\\\\":0,\\\\\\\"offset\\\\\\\":1249027121},\\\\\\\"id\\\\\\\":2655168092,\\\\\\\"type\\\\\\\":\\\\\\\"edit\\\\\\\",\\\\\\\"namespace\\\\\\\":6,\\\\\\\"title\\\\\\\":\\\\\\\"File:Florida Tropical House NPS.jpg\\\\\\\",\\\\\\\"title_url\\\\\\\":\\\\\\\"https://commons.wikimedia.org/wiki/File:Florida_Tropical_House_NPS.jpg\\\\\\\",\\\\\\\"comment\\\\\\\":\\\\\\\"/* wbsetclaim-update:2||1|2 */ [[d:Special:EntityPage/P6216]]: [[d:Special:EntityPage/Q19652]], updating based on [[Template:PD-USGov-NPS]]\\\\\\\",\\\\\\\"timestamp\\\\\\\":1731654778,\\\\\\\"user\\\\\\\":\\\\\\\"BotMultichillT\\\\\\\",\\\\\\\"bot\\\\\\\":true,\\\\\\\"notify_url\\\\\\\":\\\\\\\"https://commons.wikimedia.org/w/index.php?diff=957288243&oldid=709348572&rcid=2655168092\\\\\\\",\\\\\\\"minor\\\\\\\":false,\\\\\\\"patrolled\\\\\\\":true,\\\\\\\"length\\\\\\\":{\\\\\\\"old\\\\\\\":4685,\\\\\\\"new\\\\\\\":5358},\\\\\\\"revision\\\\\\\":{\\\\\\\"old\\\\\\\":709348572,\\\\\\\"new\\\\\\\":957288243},\\\\\\\"server_url\\\\\\\":\\\\\\\"https://commons.wikimedia.org\\\\\\\",\\\\\\\"server_name\\\\\\\":\\\\\\\"commons.wikimedia.org\\\\\\\",\\\\\\\"server_script_path\\\\\\\":\\\\\\\"/w\\\\\\\",\\\\\\\"wiki\\\\\\\":\\\\\\\"commonswiki\\\\\\\",\\\\\\\"parsedcomment\\\\\\\":\\\\\\\"\\\\u200e<span dir=\\\\\\\\\\\"auto\\\\\\\\\\\"><span class=\\\\\\\\\\\"autocomment\\\\\\\\\\\">Changed claim: </span></span> <a href=\\\\\\\\\\\"https://www.wikidata.org/wiki/Special:EntityPage/P6216\\\\\\\\\\\" class=\\\\\\\\\\\"extiw\\\\\\\\\\\" title=\\\\\\\\\\\"\\\\u200ecopyright status\\\\u200e | \\\\u200ecopyright status for intellectual creations like works of art, publications, software, etc.\\\\u200e\\\\\\\\\\\"><span class=\\\\\\\\\\\"wb-itemlink\\\\\\\\\\\"><span class=\\\\\\\\\\\"wb-itemlink-label\\\\\\\\\\\" lang=\\\\\\\\\\\"en\\\\\\\\\\\" dir=\\\\\\\\\\\"ltr\\\\\\\\\\\">copyright status</span> <span class=\\\\\\\\\\\"wb-itemlink-id\\\\\\\\\\\">(P6216)</span></span></a>: <a href=\\\\\\\\\\\"https://www.wikidata.org/wiki/Special:EntityPage/Q19652\\\\\\\\\\\" class=\\\\\\\\\\\"extiw\\\\\\\\\\\" title=\\\\\\\\\\\"\\\\u200epublic domain\\\\u200e | \\\\u200eno exclusive intellectual property rights apply\\\\u200e\\\\\\\\\\\"><span class=\\\\\\\\\\\"wb-itemlink\\\\\\\\\\\"><span class=\\\\\\\\\\\"wb-itemlink-label\\\\\\\\\\\" lang=\\\\\\\\\\\"en\\\\\\\\\\\" dir=\\\\\\\\\\\"ltr\\\\\\\\\\\">public domain</span> <span class=\\\\\\\\\\\"wb-itemlink-id\\\\\\\\\\\">(Q19652)</span></span></a>, updating based on <a href=\\\\\\\\\\\"/wiki/Template:PD-USGov-NPS\\\\\\\\\\\" title=\\\\\\\\\\\"Template:PD-USGov-NPS\\\\\\\\\\\">Template:PD-USGov-NPS</a>\\\\\\\"}\\\"\"}\n"
     ]
    },
    {
     "name": "stderr",
     "output_type": "stream",
     "text": [
      "                                                                                \r"
     ]
    }
   ],
   "source": [
    "json_string = parsed_data.select(\"value_clean\").toJSON().collect()[0] \n",
    "  \n",
    "print(json_string) \n",
    "  \n",
    "# Write the JSON string to a file \n",
    "with open(\"/home/gauravthagunna/Desktop/projects/kafka-projects/wikimedia_processing/data_sample/data_wikimedia.json\", \"w\") as f: \n",
    "    f.write(json_string) "
   ]
  },
  {
   "cell_type": "code",
   "execution_count": 31,
   "metadata": {},
   "outputs": [
    {
     "name": "stderr",
     "output_type": "stream",
     "text": [
      "24/11/15 13:29:06 WARN AdminClientConfig: The configuration 'key.deserializer' was supplied but isn't a known config.\n",
      "24/11/15 13:29:06 WARN AdminClientConfig: The configuration 'value.deserializer' was supplied but isn't a known config.\n",
      "24/11/15 13:29:06 WARN AdminClientConfig: The configuration 'enable.auto.commit' was supplied but isn't a known config.\n",
      "24/11/15 13:29:06 WARN AdminClientConfig: The configuration 'max.poll.records' was supplied but isn't a known config.\n",
      "24/11/15 13:29:06 WARN AdminClientConfig: The configuration 'auto.offset.reset' was supplied but isn't a known config.\n"
     ]
    },
    {
     "data": {
      "text/plain": [
       "182"
      ]
     },
     "execution_count": 31,
     "metadata": {},
     "output_type": "execute_result"
    }
   ],
   "source": [
    "df.count().sh"
   ]
  },
  {
   "cell_type": "code",
   "execution_count": null,
   "metadata": {},
   "outputs": [],
   "source": []
  }
 ],
 "metadata": {
  "kernelspec": {
   "display_name": "pyspark_env",
   "language": "python",
   "name": "python3"
  },
  "language_info": {
   "codemirror_mode": {
    "name": "ipython",
    "version": 3
   },
   "file_extension": ".py",
   "mimetype": "text/x-python",
   "name": "python",
   "nbconvert_exporter": "python",
   "pygments_lexer": "ipython3",
   "version": "3.10.12"
  }
 },
 "nbformat": 4,
 "nbformat_minor": 2
}
